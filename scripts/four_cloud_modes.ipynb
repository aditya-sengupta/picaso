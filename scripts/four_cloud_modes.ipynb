{
 "cells": [
  {
   "cell_type": "code",
   "execution_count": null,
   "id": "840bc7de-58cf-406e-a484-04611a82c154",
   "metadata": {},
   "outputs": [
    {
     "name": "stdout",
     "output_type": "stream",
     "text": [
      "Setting up atmosphere for cloudless run\n",
      "Big iteration is  97.85603010678923 0\n",
      "Big iteration is  90.05231179059591 1\n",
      "Profile converged before itmx\n",
      "Big iteration is  94.4308223887198 0\n",
      "Big iteration is  90.35596680481072 1\n",
      "Profile converged before itmx\n",
      "Big iteration is  85.88141039219786 0\n",
      "Profile converged before itmx\n",
      "Big iteration is  87.46816045116333 0\n",
      "Profile converged before itmx\n",
      "Move up two levels\n",
      "Big iteration is  91.82096462766503 0\n",
      "Big iteration is  100.2175893120913 1\n",
      "Big iteration is  90.99416407028745 2\n",
      "Big iteration is  98.85279283202179 3\n",
      "Profile converged before itmx\n",
      "Move up two levels\n",
      "Big iteration is  101.09165523043454 0\n",
      "Big iteration is  90.71009538434775 1\n",
      "Big iteration is  103.64103391655557 2\n",
      "Big iteration is  91.68501808344749 3\n",
      "Profile converged before itmx\n",
      "Move up two levels\n",
      "Big iteration is  93.41235152495668 0\n",
      "Big iteration is  94.81204614309092 1\n",
      "Profile converged before itmx\n",
      "Big iteration is  89.11166182009279 0\n",
      "Profile converged before itmx\n",
      "Big iteration is  90.61966913231214 0\n",
      "Profile converged before itmx\n",
      "final [ 0 50 89  0  0  0]\n",
      "In t_start: Converged Solution in iterations  15\n",
      "In t_start: Converged Solution in iterations  0\n",
      " We are already at a root, tolf , test =  5e-05 ,  3.2341082962678857e-06\n",
      " We are already at a root, tolf , test =  5e-05 ,  3.2341082962678857e-06\n",
      " We are already at a root, tolf , test =  5e-05 ,  3.2341082962678857e-06\n",
      " We are already at a root, tolf , test =  5e-05 ,  3.2341082962678857e-06\n",
      "YAY ! ENDING WITH CONVERGENCE\n",
      "Making clouds off cloudless run for post-processed/fixed\n",
      "Overwriting some Kz values to minimum value set by kz_min \n",
      "                     You can always turn off these warnings by setting verbose=False\n"
     ]
    }
   ],
   "source": [
    "# %%\n",
    "\n",
    "import sys\n",
    "import os\n",
    "import warnings\n",
    "warnings.filterwarnings('ignore')\n",
    "import picaso.justdoit as jdi\n",
    "import picaso.justplotit as jpi\n",
    "import virga.justdoit as vj\n",
    "import virga.justplotit as cldplt\n",
    "import astropy.units as u\n",
    "import numpy as np\n",
    "import pandas as pd\n",
    "import matplotlib.pyplot as plt\n",
    "import glob\n",
    "import pickle\n",
    "import matplotlib\n",
    "matplotlib.rcParams['animation.embed_limit'] = 2**128\n",
    "import xarray\n",
    "from copy import deepcopy\n",
    "\n",
    "#1 ck tables from roxana\n",
    "mh = '+000'#'+0.0' #log metallicity\n",
    "CtoO = '100'#'1.0' # CtoO ratio\n",
    "\n",
    "ck_db = f\"../data/kcoeff_2020/sonora_2020_feh{mh}_co_{CtoO}.data.196\"\n",
    "\n",
    "#sonora bobcat cloud free structures file\n",
    "sonora_profile_db = '../data/sonora_bobcat/structures_m+0.0'\n",
    "sonora_dat_db = '../data/sonora_bobcat/structures_m+0.0'\n",
    "\n",
    "cl_run = jdi.inputs(calculation=\"browndwarf\", climate = True) # start a calculation\n",
    "\n",
    "teff = 250 # Effective Temperature of your Brown Dwarf in K\n",
    "grav = 316 # Gravity of your brown dwarf in m/s/s\n",
    "\n",
    "cl_run.gravity(gravity=grav, gravity_unit=u.Unit('m/(s**2)')) # input gravity\n",
    "cl_run.effective_temp(teff) # input effective temperature\n",
    "\n",
    "opacity_ck = jdi.opannection(ck_db=ck_db) # grab your opacities\n",
    "\n",
    "nlevel = 91 # number of plane-parallel levels in your code\n",
    "pressure_bobcat,temp_bobcat = np.loadtxt(jdi.os.path.join(\n",
    "                            sonora_profile_db,f\"t{teff}g{grav}nc_m0.0.dat\"),\n",
    "                            usecols=[1,2],unpack=True, skiprows = 1)\n",
    "\n",
    "nofczns = 1 # number of convective zones initially\n",
    "nstr_upper = 60 # top most level of guessed convective zone\n",
    "nstr_deep = nlevel - 2 # this is always the case. Dont change this\n",
    "nstr = np.array([0,nstr_upper,nstr_deep,0,0,0])\n",
    "rfacv = 0.5 #we are focused on a brown dwarf so let's keep this as is\n",
    "\n",
    "def twod_to_threed(arr, reps=4):\n",
    "    \"\"\"\n",
    "    Takes in a 2D array of size (r, c) and repeats it along the last axis to make an array of size (r, c, reps).\n",
    "    \"\"\"\n",
    "    return np.repeat(arr[:, :, np.newaxis], reps, axis=2)\n",
    "\n",
    "\n",
    "print(\"Setting up atmosphere for cloudless run\")\n",
    "cl_run.inputs_climate(temp_guess= temp_bobcat, pressure= pressure_bobcat,\n",
    "                      nstr = nstr, nofczns = nofczns , rfacv = rfacv, cloudy = \"cloudless\", mh = '0.0', \n",
    "                      CtoO = '1.0',species = ['H2O'], fsed = 8.0, beta = 0.1, virga_param = 'const',\n",
    "                      mieff_dir = \"~/projects/clouds/virga/refrind\", do_holes = False, fhole = 0.5, fthin_cld = 0.9, moistgrad = False,\n",
    "                      )\n",
    "\n",
    "out_cloudless = deepcopy(cl_run.climate(opacity_ck, save_all_profiles=True,with_spec=True))\n",
    "\n",
    "# Restart in order to make a postprocessed/fixed cloud profile\n",
    "bundle = jdi.inputs(calculation='brown')\n",
    "bundle.phase_angle(0)\n",
    "bundle.gravity(gravity=grav, gravity_unit=u.Unit('m/s**2'))\n",
    "temp, pressure = out_cloudless[\"temperature\"], out_cloudless[\"pressure\"]\n",
    "bundle.add_pt(temp, pressure)\n",
    "bundle.premix_atmosphere(opacity_ck, df = bundle.inputs['atmosphere']['profile'].loc[:,['pressure','temperature']])\n",
    "DTAU, TAU, W0, COSB,ftau_cld, ftau_ray,GCOS2, DTAU_OG, TAU_OG, W0_OG, COSB_OG, \\\n",
    "                    W0_no_raman, surf_reflect, ubar0,ubar1,cos_theta, single_phase,multi_phase, \\\n",
    "                    frac_a,frac_b,frac_c,constant_back,constant_forward, \\\n",
    "                    wno,nwno,ng,nt, nlevel, ngauss, gauss_wts, mmw, gweight,tweight = jdi.calculate_atm(bundle, opacity_ck)\n",
    "bb, y2, tp = 0, 0, 0\n",
    "FOPI = np.zeros(opacity_ck.nwno) + 1.0\n",
    "Teff = cl_run.inputs[\"planet\"][\"T_eff\"]\n",
    "min_temp = min(opacity_ck.temps)\n",
    "max_temp = max(opacity_ck.temps)\n",
    "if Teff > 300:\n",
    "    tmin = min_tem\n",
    "else:\n",
    "    tmin = 10\n",
    "tmax = max_temp*(1.3)\n",
    "dt = bundle.inputs['climate']['dt_bb_grid']\n",
    "ntmps = int((tmax-tmin)/dt)\n",
    "flux_net_v_layer_full, flux_net_v_full, flux_plus_v_full, flux_minus_v_full , flux_net_ir_layer_full, flux_net_ir_full, flux_plus_ir_full, flux_minus_ir_full = jdi.get_fluxes(pressure, temp, opacity_ck.delta_wno, bb , y2, tp, tmin, tmax, DTAU, TAU, W0, \n",
    "                    COSB,ftau_cld, ftau_ray,GCOS2, DTAU_OG, TAU_OG, W0_OG, COSB_OG, W0_no_raman, surf_reflect, \n",
    "                    ubar0,ubar1,cos_theta, FOPI, single_phase,multi_phase,frac_a,frac_b,frac_c,constant_back,constant_forward, \n",
    "                    wno,nwno,ng,nt,gweight,tweight, nlevel, ngauss, gauss_wts,True, True)#True for reflected, True for thermal\n",
    "mean_molecular_weight = np.mean(mmw)\n",
    "sigma_sb = 0.56687e-4\n",
    "tidal = np.zeros_like(pressure) - sigma_sb *(Teff**4)\n",
    "grad = bundle.inputs[\"climate\"][\"grad\"]\n",
    "cp = bundle.inputs['climate']['cp']\n",
    "nstr = out_cloudless[\"cvz_locs\"]\n",
    "kzz = jdi.get_kzz(\n",
    "    out_cloudless[\"pressure\"], out_cloudless[\"temperature\"],grav,mmw,tidal,flux_net_ir_layer_full, flux_net_ir_layer_full,\n",
    "    cl_run.inputs[\"climate\"][\"t_table\"], cl_run.inputs[\"climate\"][\"p_table\"], cl_run.inputs[\"climate\"][\"grad\"], cl_run.inputs[\"climate\"][\"cp\"],\n",
    "    0,list(nstr),bundle.inputs['atmosphere']['profile'].T.values\n",
    ")\n",
    "# this virga run will use the cloudless-converged temperature profile\n",
    "# and the associated Kzz\n",
    "bundle.inputs['atmosphere']['profile']['temperature'] = temp\n",
    "bundle.inputs['atmosphere']['profile']['kz'] = kzz\n",
    "\n",
    "print(\"Making clouds off cloudless run for post-processed/fixed\")\n",
    "postproc_cld_out = bundle.virga([\"H2O\"],\"~/projects/clouds/virga/refrind\", fsed=8.0,mh=1.0,mmw = mean_molecular_weight, b = 0.1, param = 'const')\n",
    "postproc_cld_df = vj.picaso_format(postproc_cld_out[\"opd_per_layer\"], postproc_cld_out[\"single_scattering\"], postproc_cld_out[\"asymmetry\"], postproc_cld_out[\"pressure\"], 1e4 / postproc_cld_out[\"wave\"])"
   ]
  },
  {
   "cell_type": "code",
   "execution_count": null,
   "id": "5c289a10-8cd5-4ac3-8966-258d6b455d2b",
   "metadata": {},
   "outputs": [
    {
     "name": "stdout",
     "output_type": "stream",
     "text": [
      "Fixed run\n",
      "Big iteration is  97.06232700518827 0\n",
      "Profile converged before itmx\n",
      "Big iteration is  92.40291492140159 0\n",
      "Profile converged before itmx\n",
      "Big iteration is  95.66849598155119 0\n",
      "Profile converged before itmx\n",
      "final [ 0 49 89  0  0  0]\n",
      "In t_start: Converged Solution in iterations  6\n",
      " We are already at a root, tolf , test =  5e-05 ,  2.1805357567501103e-05\n",
      " We are already at a root, tolf , test =  5e-05 ,  2.1805357567501103e-05\n",
      " We are already at a root, tolf , test =  5e-05 ,  2.1805357567501103e-05\n",
      " We are already at a root, tolf , test =  5e-05 ,  2.1805357567501103e-05\n",
      "YAY ! ENDING WITH CONVERGENCE\n",
      "Big iteration is  107.23595073095264 0\n",
      "Profile converged before itmx\n",
      "Big iteration is  95.66587287206602 0\n",
      "Profile converged before itmx\n",
      " convection zone status\n",
      "0 49 89 0 0 0\n",
      "1\n",
      "[ 0 15 15 15 49 89]\n",
      "Big iteration is  96.14211014544594 0\n",
      "Profile converged before itmx\n",
      "Grow Phase : Upper Zone\n",
      "final [ 0 15 15 15 49 89]\n",
      " We are already at a root, tolf , test =  5e-05 ,  1.025781425334412e-05\n",
      " We are already at a root, tolf , test =  5e-05 ,  1.025781425334412e-05\n",
      " We are already at a root, tolf , test =  5e-05 ,  1.025781425334412e-05\n",
      " We are already at a root, tolf , test =  5e-05 ,  1.025781425334412e-05\n",
      " We are already at a root, tolf , test =  5e-05 ,  1.025781425334412e-05\n",
      "YAY ! ENDING WITH CONVERGENCE\n"
     ]
    }
   ],
   "source": [
    "# %%\n",
    "\n",
    "cl_run.inputs[\"climate\"][\"cloudy\"] = \"fixed\"\n",
    "cl_run.inputs[\"climate\"][\"opd_climate\"] = twod_to_threed(postproc_cld_out[\"opd_per_layer\"])\n",
    "cl_run.inputs[\"climate\"][\"w0_climate\"] = twod_to_threed(postproc_cld_out[\"single_scattering\"])\n",
    "cl_run.inputs[\"climate\"][\"g0_climate\"] = twod_to_threed(postproc_cld_out[\"asymmetry\"])\n",
    "\n",
    "print(\"Fixed run\")\n",
    "out_fixed = deepcopy(cl_run.climate(opacity_ck, save_all_profiles=True,with_spec=True))\n",
    "\n",
    "cl_run.inputs[\"climate\"][\"opd_climate\"] = 100 * twod_to_threed(postproc_cld_out[\"opd_per_layer\"])\n",
    "out_fixed100 = deepcopy(cl_run.climate(opacity_ck, save_all_profiles=True,with_spec=True))"
   ]
  },
  {
   "cell_type": "code",
   "execution_count": null,
   "id": "147db388-9022-4a10-b650-5c66ccca3c79",
   "metadata": {},
   "outputs": [
    {
     "data": {
      "text/plain": [
       "False"
      ]
     },
     "execution_count": 3,
     "metadata": {},
     "output_type": "execute_result"
    }
   ],
   "source": [
    "# %%\n",
    "\n",
    "np.any(np.isnan(out_fixed100[\"temperature\"]))"
   ]
  },
  {
   "cell_type": "code",
   "execution_count": null,
   "id": "874a3936-9947-4c51-9412-188cfeacd1a5",
   "metadata": {},
   "outputs": [
    {
     "data": {
      "text/plain": [
       "False"
      ]
     },
     "execution_count": 4,
     "metadata": {},
     "output_type": "execute_result"
    }
   ],
   "source": [
    "# %%\n",
    "\n",
    "np.any(np.isnan(out_fixed[\"temperature\"]))"
   ]
  },
  {
   "cell_type": "code",
   "execution_count": null,
   "id": "3f3f2a72-5d2a-4831-acb0-93e14ae2a54e",
   "metadata": {},
   "outputs": [
    {
     "name": "stdout",
     "output_type": "stream",
     "text": [
      "Self-consistent run\n",
      "Cloudy functionality still in beta form and not ready for public use.\n"
     ]
    }
   ],
   "source": [
    "# %%\n",
    "\n",
    "print(\"Self-consistent run\")\n",
    "cl_run.inputs_climate(temp_guess=out_fixed100[\"temperature\"], pressure= pressure_bobcat,\n",
    "                      nstr = nstr, nofczns = nofczns , rfacv = rfacv, cloudy = \"selfconsistent\", mh = '0.0', \n",
    "                      CtoO = '1.0',species = ['H2O'], fsed = 8.0, beta = 0.1, virga_param = 'const',\n",
    "                      mieff_dir = \"~/projects/clouds/virga/refrind\", do_holes = False, fhole = 0.5, fthin_cld = 0.9, moistgrad = False,\n",
    "                      )\n",
    "cl_run.inputs[\"climate\"][\"guess_temp\"][np.isnan(out_fixed100[\"temperature\"])] = out_fixed100[\"temperature\"][0]"
   ]
  },
  {
   "cell_type": "code",
   "execution_count": null,
   "id": "5a85f8b7-b022-48e9-845e-93d0a487f154",
   "metadata": {},
   "outputs": [
    {
     "name": "stdout",
     "output_type": "stream",
     "text": [
      " We are already at a root, tolf , test =  5e-05 ,  2.223496212271229e-05\n",
      "Overwriting some Kz values to minimum value set by kz_min \n",
      "                     You can always turn off these warnings by setting verbose=False\n",
      "Max TAUCLD diff is 0.0  Tau tolerance is  0.4772943404467358\n",
      "Big iteration is  67.78085979124297 0\n",
      "Got stuck with temp NaN -- so escaping the while loop in tstart\n",
      " We are already at a root, tolf , test =  5e-05 ,  0.0\n",
      "Overwriting some Kz values to minimum value set by kz_min \n",
      "                     You can always turn off these warnings by setting verbose=False\n",
      "Max TAUCLD diff is 0.0  Tau tolerance is  2.0816041517497412\n",
      "Big iteration is  10.6 1\n",
      " We are already at a root, tolf , test =  5e-05 ,  0.0\n",
      "Overwriting some Kz values to minimum value set by kz_min \n",
      "                     You can always turn off these warnings by setting verbose=False\n"
     ]
    },
    {
     "ename": "ValueError",
     "evalue": "array must not contain infs or NaNs",
     "output_type": "error",
     "traceback": [
      "\u001b[0;31m---------------------------------------------------------------------------\u001b[0m",
      "\u001b[0;31mValueError\u001b[0m                                Traceback (most recent call last)",
      "File \u001b[1;32m/Users/adityasengupta/projects/clouds/picaso/scripts/four_cloud_modes.py:2\u001b[0m\n\u001b[1;32m      1\u001b[0m \u001b[39m# %%\u001b[39;00m\n\u001b[0;32m----> 2\u001b[0m out_selfconsistent \u001b[39m=\u001b[39m deepcopy(cl_run\u001b[39m.\u001b[39mclimate(opacity_ck, save_all_profiles\u001b[39m=\u001b[39m\u001b[39mTrue\u001b[39;00m,with_spec\u001b[39m=\u001b[39m\u001b[39mTrue\u001b[39;00m))\n",
      "File \u001b[0;32m~/projects/clouds/picaso/picaso/justdoit.py:3874\u001b[0m, in \u001b[0;36minputs.climate\u001b[0;34m(self, opacityclass, save_all_profiles, as_dict, with_spec, save_all_kzz, diseq_chem, self_consistent_kzz, kz, on_fly, gases_fly, chemeq_first, verbose)\u001b[0m\n\u001b[1;32m   3871\u001b[0m final \u001b[39m=\u001b[39m \u001b[39mFalse\u001b[39;00m\n\u001b[1;32m   3872\u001b[0m flag_hack \u001b[39m=\u001b[39m \u001b[39mFalse\u001b[39;00m\n\u001b[0;32m-> 3874\u001b[0m \u001b[39mif\u001b[39;00m chemeq_first: pressure, temperature, dtdp, profile_flag, all_profiles,opd_cld_climate,g0_cld_climate,w0_cld_climate,cld_out,flux_net_ir_layer, flux_plus_ir_attop, all_opd \u001b[39m=\u001b[39m profile(mieff_dir,it_max, itmx, conv, convt, nofczns,nstr,x_max_mult,\n\u001b[1;32m   3875\u001b[0m     TEMP1,pressure, FOPI, t_table, p_table, grad, cp, opacityclass, grav, \n\u001b[1;32m   3876\u001b[0m     rfaci, rfacv, nlevel, tidal, tmin, tmax, delta_wno, bb , y2 , tp, final , \n\u001b[1;32m   3877\u001b[0m     cloudy, cld_species,mh,fsed,flag_hack, save_profile,all_profiles, all_opd,\n\u001b[1;32m   3878\u001b[0m     opd_cld_climate,g0_cld_climate,w0_cld_climate,beta, param_flag,\n\u001b[1;32m   3879\u001b[0m     fhole\u001b[39m=\u001b[39mfhole, fthin_cld\u001b[39m=\u001b[39mfthin_cld, do_holes \u001b[39m=\u001b[39m do_holes, first_call_ever\u001b[39m=\u001b[39m\u001b[39mTrue\u001b[39;00m, verbose\u001b[39m=\u001b[39mverbose, moist \u001b[39m=\u001b[39m moist)\n\u001b[1;32m   3881\u001b[0m \u001b[39m# second convergence call\u001b[39;00m\n\u001b[1;32m   3882\u001b[0m it_max\u001b[39m=\u001b[39m \u001b[39m7\u001b[39m\n",
      "File \u001b[0;32m~/projects/clouds/picaso/picaso/justdoit.py:4925\u001b[0m, in \u001b[0;36mprofile\u001b[0;34m(mieff_dir, it_max, itmx, conv, convt, nofczns, nstr, x_max_mult, temp, pressure, FOPI, t_table, p_table, grad, cp, opacityclass, grav, rfaci, rfacv, nlevel, tidal, tmin, tmax, dwni, bb, y2, tp, final, cloudy, cld_species, mh, fsed, flag_hack, save_profile, all_profiles, all_opd, opd_cld_climate, g0_cld_climate, w0_cld_climate, beta, param_flag, flux_net_ir_layer, flux_plus_ir_attop, first_call_ever, verbose, do_holes, fhole, fthin_cld, moist)\u001b[0m\n\u001b[1;32m   4923\u001b[0m     cld_out \u001b[39m=\u001b[39m \u001b[39m\"\u001b[39m\u001b[39mfixed\u001b[39m\u001b[39m\"\u001b[39m\n\u001b[1;32m   4924\u001b[0m \u001b[39melif\u001b[39;00m cloudy \u001b[39m==\u001b[39m \u001b[39m\"\u001b[39m\u001b[39mselfconsistent\u001b[39m\u001b[39m\"\u001b[39m:\n\u001b[0;32m-> 4925\u001b[0m     cld_out, df_cld, diff, tau_dif, taudif_tol \u001b[39m=\u001b[39m run_clouds_for_climate(cld_species, cloudy, fsed, beta, param_flag, bundle, opacityclass, mieff_dir, opd_cld_climate, g0_cld_climate, w0_cld_climate, mh, pressure, temp, grav, mmw, tidal, flux_net_ir_layer, flux_plus_ir_attop,t_table, p_table, grad, cp, calc_type,nstr, output_abunds, moist, verbose\u001b[39m=\u001b[39mverbose)\n\u001b[1;32m   4926\u001b[0m \u001b[39m    \u001b[39m\u001b[39m\"\"\"we0,we1,we2,we3 = 0.25,0.25,0.25,0.25\u001b[39;00m\n\u001b[1;32m   4927\u001b[0m \u001b[39m    opd_prev_cld_step = (we0*opd_cld_climate[:,:,0]+we1*opd_cld_climate[:,:,1]+we2*opd_cld_climate[:,:,2]+we3*opd_cld_climate[:,:,3]) # last average\u001b[39;00m\n\u001b[1;32m   4928\u001b[0m \u001b[39m    \u001b[39;00m\n\u001b[0;32m   (...)\u001b[0m\n\u001b[1;32m   4973\u001b[0m \u001b[39m    taudif = np.max(np.abs(diff))\u001b[39;00m\n\u001b[1;32m   4974\u001b[0m \u001b[39m    taudif_tol = 0.4*np.max(0.5*(opd_clmt+opd_prev_cld_step))\"\"\"\u001b[39;00m\n\u001b[1;32m   4976\u001b[0m     \u001b[39m# adding a new array to save opd for a single wavelength to use for animation/tracking of convergence *JM\u001b[39;00m\n",
      "File \u001b[0;32m~/projects/clouds/picaso/picaso/clouds.py:36\u001b[0m, in \u001b[0;36mrun_clouds_for_climate\u001b[0;34m(cld_species, cloudy, fsed, beta, param_flag, bundle, opacityclass, directory, opd_cld_climate, g0_cld_climate, w0_cld_climate, mh, pressure, temp, grav, mmw, tidal, flux_net_ir_layer, flux_plus_ir_attop, t_table, p_table, grad, cp, calc_type, nstr, output_abunds, moist, verbose)\u001b[0m\n\u001b[1;32m     32\u001b[0m kzz \u001b[39m=\u001b[39m get_kzz(pressure, temp,grav,mmw,tidal,flux_net_ir_layer, flux_plus_ir_attop,t_table, p_table, grad, cp, calc_type,nstr, output_abunds, moist \u001b[39m=\u001b[39m moist)\n\u001b[1;32m     33\u001b[0m bundle\u001b[39m.\u001b[39minputs[\u001b[39m'\u001b[39m\u001b[39matmosphere\u001b[39m\u001b[39m'\u001b[39m][\u001b[39m'\u001b[39m\u001b[39mprofile\u001b[39m\u001b[39m'\u001b[39m][\u001b[39m'\u001b[39m\u001b[39mkz\u001b[39m\u001b[39m'\u001b[39m] \u001b[39m=\u001b[39m kzz\n\u001b[0;32m---> 36\u001b[0m cld_out \u001b[39m=\u001b[39m bundle\u001b[39m.\u001b[39mvirga(cld_species,directory, fsed\u001b[39m=\u001b[39mfsed,mh\u001b[39m=\u001b[39mmetallicity,\n\u001b[1;32m     37\u001b[0m             mmw \u001b[39m=\u001b[39m mean_molecular_weight, b \u001b[39m=\u001b[39m beta, param \u001b[39m=\u001b[39m param_flag, verbose\u001b[39m=\u001b[39mverbose) \u001b[39m#,climate=True)\u001b[39;00m\n\u001b[1;32m     39\u001b[0m opd_now, w0_now, g0_now \u001b[39m=\u001b[39m cld_out[\u001b[39m'\u001b[39m\u001b[39mopd_per_layer\u001b[39m\u001b[39m'\u001b[39m],cld_out[\u001b[39m'\u001b[39m\u001b[39msingle_scattering\u001b[39m\u001b[39m'\u001b[39m],cld_out[\u001b[39m'\u001b[39m\u001b[39masymmetry\u001b[39m\u001b[39m'\u001b[39m]\n\u001b[1;32m     41\u001b[0m opd_cld_climate[:,:,\u001b[39m3\u001b[39m], g0_cld_climate[:,:,\u001b[39m3\u001b[39m], w0_cld_climate[:,:,\u001b[39m3\u001b[39m] \u001b[39m=\u001b[39m opd_cld_climate[:,:,\u001b[39m2\u001b[39m], g0_cld_climate[:,:,\u001b[39m2\u001b[39m], w0_cld_climate[:,:,\u001b[39m2\u001b[39m]\n",
      "File \u001b[0;32m~/projects/clouds/picaso/picaso/justdoit.py:3091\u001b[0m, in \u001b[0;36minputs.virga\u001b[0;34m(self, condensates, directory, fsed, b, eps, param, mh, mmw, kz_min, sig, Teff, alpha_pressure, supsat, gas_mmr, do_virtual, verbose)\u001b[0m\n\u001b[1;32m   3089\u001b[0m \u001b[39m# print('virga temp:', df['temperatures'].values)\u001b[39;00m\n\u001b[1;32m   3090\u001b[0m cloud_p\u001b[39m.\u001b[39mptk(df \u001b[39m=\u001b[39mdf, kz_min \u001b[39m=\u001b[39m kz_min, Teff \u001b[39m=\u001b[39m Teff, alpha_pressure \u001b[39m=\u001b[39m alpha_pressure)\n\u001b[0;32m-> 3091\u001b[0m out \u001b[39m=\u001b[39m vj\u001b[39m.\u001b[39mcompute(cloud_p, as_dict\u001b[39m=\u001b[39m\u001b[39mTrue\u001b[39;00m,\n\u001b[1;32m   3092\u001b[0m                   directory\u001b[39m=\u001b[39mdirectory, do_virtual\u001b[39m=\u001b[39mdo_virtual)\n\u001b[1;32m   3093\u001b[0m opd, w0, g0 \u001b[39m=\u001b[39m out[\u001b[39m'\u001b[39m\u001b[39mopd_per_layer\u001b[39m\u001b[39m'\u001b[39m],out[\u001b[39m'\u001b[39m\u001b[39msingle_scattering\u001b[39m\u001b[39m'\u001b[39m],out[\u001b[39m'\u001b[39m\u001b[39masymmetry\u001b[39m\u001b[39m'\u001b[39m]\n\u001b[1;32m   3094\u001b[0m pres \u001b[39m=\u001b[39m out[\u001b[39m'\u001b[39m\u001b[39mpressure\u001b[39m\u001b[39m'\u001b[39m]\n",
      "File \u001b[0;32m~/projects/clouds/virga/virga/justdoit.py:116\u001b[0m, in \u001b[0;36mcompute\u001b[0;34m(atmo, directory, as_dict, og_solver, direct_tol, refine_TP, og_vfall, analytical_rg, do_virtual)\u001b[0m\n\u001b[1;32m    114\u001b[0m \u001b[39melif\u001b[39;00m atmo\u001b[39m.\u001b[39mparam \u001b[39m==\u001b[39m \u001b[39m'\u001b[39m\u001b[39mconst\u001b[39m\u001b[39m'\u001b[39m:\n\u001b[1;32m    115\u001b[0m     fsed_in \u001b[39m=\u001b[39m atmo\u001b[39m.\u001b[39mfsed\n\u001b[0;32m--> 116\u001b[0m qc, qt, rg, reff, ndz, qc_path, mixl, z_cld \u001b[39m=\u001b[39m eddysed(atmo\u001b[39m.\u001b[39mt_level, atmo\u001b[39m.\u001b[39mp_level, atmo\u001b[39m.\u001b[39mt_layer, atmo\u001b[39m.\u001b[39mp_layer, \n\u001b[1;32m    117\u001b[0m                                      condensibles, gas_mw, gas_mmr, rho_p , mmw, \n\u001b[1;32m    118\u001b[0m                                      atmo\u001b[39m.\u001b[39mg, atmo\u001b[39m.\u001b[39mkz, atmo\u001b[39m.\u001b[39mmixl, \n\u001b[1;32m    119\u001b[0m                                      fsed_in,\n\u001b[1;32m    120\u001b[0m                                      atmo\u001b[39m.\u001b[39mb, atmo\u001b[39m.\u001b[39meps, atmo\u001b[39m.\u001b[39mscale_h, atmo\u001b[39m.\u001b[39mz_top, atmo\u001b[39m.\u001b[39mz_alpha, \u001b[39mmin\u001b[39m(atmo\u001b[39m.\u001b[39mz), atmo\u001b[39m.\u001b[39mparam,\n\u001b[1;32m    121\u001b[0m                                      mh, atmo\u001b[39m.\u001b[39msig, rmin, nradii,\n\u001b[1;32m    122\u001b[0m                                      atmo\u001b[39m.\u001b[39md_molecule,atmo\u001b[39m.\u001b[39meps_k,atmo\u001b[39m.\u001b[39mc_p_factor,\n\u001b[1;32m    123\u001b[0m                                      og_vfall, supsat\u001b[39m=\u001b[39matmo\u001b[39m.\u001b[39msupsat,verbose\u001b[39m=\u001b[39matmo\u001b[39m.\u001b[39mverbose,do_virtual\u001b[39m=\u001b[39mdo_virtual)\n\u001b[1;32m    124\u001b[0m pres_out \u001b[39m=\u001b[39m atmo\u001b[39m.\u001b[39mp_layer\n\u001b[1;32m    125\u001b[0m temp_out \u001b[39m=\u001b[39m atmo\u001b[39m.\u001b[39mt_layer\n",
      "File \u001b[0;32m~/projects/clouds/virga/virga/justdoit.py:617\u001b[0m, in \u001b[0;36meddysed\u001b[0;34m(t_top, p_top, t_mid, p_mid, condensibles, gas_mw, gas_mmr, rho_p, mw_atmos, gravity, kz, mixl, fsed, b, eps, scale_h, z_top, z_alpha, z_min, param, mh, sig, rmin, nrad, d_molecule, eps_k, c_p_factor, og_vfall, do_virtual, supsat, verbose)\u001b[0m\n\u001b[1;32m    614\u001b[0m z_cld\u001b[39m=\u001b[39m\u001b[39mNone\u001b[39;00m\n\u001b[1;32m    615\u001b[0m \u001b[39mfor\u001b[39;00m iz \u001b[39min\u001b[39;00m \u001b[39mrange\u001b[39m(nz\u001b[39m-\u001b[39m\u001b[39m1\u001b[39m,\u001b[39m-\u001b[39m\u001b[39m1\u001b[39m,\u001b[39m-\u001b[39m\u001b[39m1\u001b[39m): \u001b[39m#goes from BOA to TOA\u001b[39;00m\n\u001b[0;32m--> 617\u001b[0m     qc[iz,i], qt[iz,i], rg[iz,i], reff[iz,i],ndz[iz,i],q_below, z_cld, fsed_layer[iz,i]  \u001b[39m=\u001b[39m layer( igas, rho_p[i], \n\u001b[1;32m    618\u001b[0m         \u001b[39m#t,p layers, then t.p levels below and above\u001b[39;00m\n\u001b[1;32m    619\u001b[0m         t_mid[iz], p_mid[iz], t_top[iz], t_top[iz\u001b[39m+\u001b[39m\u001b[39m1\u001b[39m], p_top[iz], p_top[iz\u001b[39m+\u001b[39m\u001b[39m1\u001b[39m],\n\u001b[1;32m    620\u001b[0m         kz[iz], mixl[iz], gravity, mw_atmos, gas_mw[i], q_below,  \n\u001b[1;32m    621\u001b[0m         supsat, fsed, b, eps, z_top[iz], z_top[iz\u001b[39m+\u001b[39m\u001b[39m1\u001b[39m], z_alpha, z_min, param,\n\u001b[1;32m    622\u001b[0m         sig,mh, rmin, nrad, d_molecule,eps_k,c_p_factor, \u001b[39m#all scalars\u001b[39;00m\n\u001b[1;32m    623\u001b[0m         og_vfall, z_cld\n\u001b[1;32m    624\u001b[0m     )\n\u001b[1;32m    626\u001b[0m     qc_path[i] \u001b[39m=\u001b[39m (qc_path[i] \u001b[39m+\u001b[39m qc[iz,i]\u001b[39m*\u001b[39m\n\u001b[1;32m    627\u001b[0m                     ( p_top[iz\u001b[39m+\u001b[39m\u001b[39m1\u001b[39m] \u001b[39m-\u001b[39m p_top[iz] ) \u001b[39m/\u001b[39m gravity)\n\u001b[1;32m    628\u001b[0m z_cld_out[i] \u001b[39m=\u001b[39m z_cld\n",
      "File \u001b[0;32m~/projects/clouds/virga/virga/justdoit.py:802\u001b[0m, in \u001b[0;36mlayer\u001b[0;34m(gas_name, rho_p, t_layer, p_layer, t_top, t_bot, p_top, p_bot, kz, mixl, gravity, mw_atmos, gas_mw, q_below, supsat, fsed, b, eps, z_top, z_bot, z_alpha, z_min, param, sig, mh, rmin, nrad, d_molecule, eps_k, c_p_factor, og_vfall, z_cld)\u001b[0m\n\u001b[1;32m    800\u001b[0m \u001b[39m################################################\u001b[39;00m\n\u001b[1;32m    801\u001b[0m t_sub \u001b[39m=\u001b[39m t_bot \u001b[39m+\u001b[39m np\u001b[39m.\u001b[39mlog( p_bot\u001b[39m/\u001b[39mp_sub )\u001b[39m*\u001b[39mdtdlnp\n\u001b[0;32m--> 802\u001b[0m qt_top, qc_sub, qt_sub, rg_sub, reff_sub,ndz_sub, z_cld, fsed_layer \u001b[39m=\u001b[39m calc_qc(\n\u001b[1;32m    803\u001b[0m         gas_name, supsat, t_sub, p_sub,r_atmos, r_cloud,\n\u001b[1;32m    804\u001b[0m             qt_below, mixl, dz_sub, gravity,mw_atmos,mfp,visc,\n\u001b[1;32m    805\u001b[0m             rho_p,w_convect, fsed, b, eps, param, z_bot_sub, z_sub, z_alpha, z_min,\n\u001b[1;32m    806\u001b[0m             sig,mh, rmin, nrad, og_vfall,z_cld)\n\u001b[1;32m    809\u001b[0m \u001b[39m#   vertical sums\u001b[39;00m\n\u001b[1;32m    810\u001b[0m qc_layer \u001b[39m=\u001b[39m qc_layer \u001b[39m+\u001b[39m qc_sub\u001b[39m*\u001b[39mdp_sub\u001b[39m/\u001b[39mgravity\n",
      "File \u001b[0;32m~/projects/clouds/virga/virga/justdoit.py:1060\u001b[0m, in \u001b[0;36mcalc_qc\u001b[0;34m(gas_name, supsat, t_layer, p_layer, r_atmos, r_cloud, q_below, mixl, dz_layer, gravity, mw_atmos, mfp, visc, rho_p, w_convect, fsed, b, eps, param, z_bot, z_layer, z_alpha, z_min, sig, mh, rmin, nrad, og_vfall, z_cld)\u001b[0m\n\u001b[1;32m   1057\u001b[0m                 vlo \u001b[39m=\u001b[39m vlo\u001b[39m/\u001b[39m\u001b[39m10\u001b[39m\n\u001b[1;32m   1058\u001b[0m                 vhi \u001b[39m=\u001b[39m vhi\u001b[39m*\u001b[39m\u001b[39m10\u001b[39m\n\u001b[0;32m-> 1060\u001b[0m pars, cov \u001b[39m=\u001b[39m optimize\u001b[39m.\u001b[39mcurve_fit(f\u001b[39m=\u001b[39mpow_law, xdata\u001b[39m=\u001b[39mr_, ydata\u001b[39m=\u001b[39mnp\u001b[39m.\u001b[39mlog(vfall_temp), p0\u001b[39m=\u001b[39m[\u001b[39m0\u001b[39m], \n\u001b[1;32m   1061\u001b[0m                     bounds\u001b[39m=\u001b[39m(\u001b[39m-\u001b[39mnp\u001b[39m.\u001b[39minf, np\u001b[39m.\u001b[39minf))\n\u001b[1;32m   1062\u001b[0m alpha \u001b[39m=\u001b[39m pars[\u001b[39m0\u001b[39m]\n\u001b[1;32m   1065\u001b[0m \u001b[39m#   fsed at middle of layer \u001b[39;00m\n",
      "File \u001b[0;32m/opt/anaconda3/envs/picaso2/lib/python3.12/site-packages/scipy/optimize/_minpack_py.py:925\u001b[0m, in \u001b[0;36mcurve_fit\u001b[0;34m(f, xdata, ydata, p0, sigma, absolute_sigma, check_finite, bounds, method, jac, full_output, nan_policy, **kwargs)\u001b[0m\n\u001b[1;32m    923\u001b[0m \u001b[39m# optimization may produce garbage for float32 inputs, cast them to float64\u001b[39;00m\n\u001b[1;32m    924\u001b[0m \u001b[39mif\u001b[39;00m check_finite:\n\u001b[0;32m--> 925\u001b[0m     ydata \u001b[39m=\u001b[39m np\u001b[39m.\u001b[39masarray_chkfinite(ydata, \u001b[39mfloat\u001b[39m)\n\u001b[1;32m    926\u001b[0m \u001b[39melse\u001b[39;00m:\n\u001b[1;32m    927\u001b[0m     ydata \u001b[39m=\u001b[39m np\u001b[39m.\u001b[39masarray(ydata, \u001b[39mfloat\u001b[39m)\n",
      "File \u001b[0;32m/opt/anaconda3/envs/picaso2/lib/python3.12/site-packages/numpy/lib/function_base.py:630\u001b[0m, in \u001b[0;36masarray_chkfinite\u001b[0;34m(a, dtype, order)\u001b[0m\n\u001b[1;32m    628\u001b[0m a \u001b[39m=\u001b[39m asarray(a, dtype\u001b[39m=\u001b[39mdtype, order\u001b[39m=\u001b[39morder)\n\u001b[1;32m    629\u001b[0m \u001b[39mif\u001b[39;00m a\u001b[39m.\u001b[39mdtype\u001b[39m.\u001b[39mchar \u001b[39min\u001b[39;00m typecodes[\u001b[39m'\u001b[39m\u001b[39mAllFloat\u001b[39m\u001b[39m'\u001b[39m] \u001b[39mand\u001b[39;00m \u001b[39mnot\u001b[39;00m np\u001b[39m.\u001b[39misfinite(a)\u001b[39m.\u001b[39mall():\n\u001b[0;32m--> 630\u001b[0m     \u001b[39mraise\u001b[39;00m \u001b[39mValueError\u001b[39;00m(\n\u001b[1;32m    631\u001b[0m         \u001b[39m\"\u001b[39m\u001b[39marray must not contain infs or NaNs\u001b[39m\u001b[39m\"\u001b[39m)\n\u001b[1;32m    632\u001b[0m \u001b[39mreturn\u001b[39;00m a\n",
      "\u001b[0;31mValueError\u001b[0m: array must not contain infs or NaNs"
     ]
    }
   ],
   "source": [
    "# %%\n",
    "\n",
    "out_selfconsistent = deepcopy(cl_run.climate(opacity_ck, save_all_profiles=True,with_spec=True))"
   ]
  }
 ],
 "metadata": {
  "language_info": {
   "codemirror_mode": {
    "name": "ipython",
    "version": 3
   },
   "file_extension": ".py",
   "mimetype": "text/x-python",
   "name": "python",
   "nbconvert_exporter": "python",
   "pygments_lexer": "ipython3",
   "version": 3
  }
 },
 "nbformat": 4,
 "nbformat_minor": 2
}
