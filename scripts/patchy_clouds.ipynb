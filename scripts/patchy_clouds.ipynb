{
 "cells": [
  {
   "cell_type": "code",
   "execution_count": 1,
   "metadata": {},
   "outputs": [
    {
     "data": {
      "text/html": [
       "    <style>\n",
       "        .bk-notebook-logo {\n",
       "            display: block;\n",
       "            width: 20px;\n",
       "            height: 20px;\n",
       "            background-image: url(data:image/png;base64,iVBORw0KGgoAAAANSUhEUgAAABQAAAAUCAYAAACNiR0NAAAABHNCSVQICAgIfAhkiAAAAAlwSFlzAAALEgAACxIB0t1+/AAAABx0RVh0U29mdHdhcmUAQWRvYmUgRmlyZXdvcmtzIENTNui8sowAAAOkSURBVDiNjZRtaJVlGMd/1/08zzln5zjP1LWcU9N0NkN8m2CYjpgQYQXqSs0I84OLIC0hkEKoPtiH3gmKoiJDU7QpLgoLjLIQCpEsNJ1vqUOdO7ppbuec5+V+rj4ctwzd8IIbbi6u+8f1539dt3A78eXC7QizUF7gyV1fD1Yqg4JWz84yffhm0qkFqBogB9rM8tZdtwVsPUhWhGcFJngGeWrPzHm5oaMmkfEg1usvLFyc8jLRqDOMru7AyC8saQr7GG7f5fvDeH7Ej8CM66nIF+8yngt6HWaKh7k49Soy9nXurCi1o3qUbS3zWfrYeQDTB/Qj6kX6Ybhw4B+bOYoLKCC9H3Nu/leUTZ1JdRWkkn2ldcCamzrcf47KKXdAJllSlxAOkRgyHsGC/zRday5Qld9DyoM4/q/rUoy/CXh3jzOu3bHUVZeU+DEn8FInkPBFlu3+nW3Nw0mk6vCDiWg8CeJaxEwuHS3+z5RgY+YBR6V1Z1nxSOfoaPa4LASWxxdNp+VWTk7+4vzaou8v8PN+xo+KY2xsw6une2frhw05CTYOmQvsEhjhWjn0bmXPjpE1+kplmmkP3suftwTubK9Vq22qKmrBhpY4jvd5afdRA3wGjFAgcnTK2s4hY0/GPNIb0nErGMCRxWOOX64Z8RAC4oCXdklmEvcL8o0BfkNK4lUg9HTl+oPlQxdNo3Mg4Nv175e/1LDGzZen30MEjRUtmXSfiTVu1kK8W4txyV6BMKlbgk3lMwYCiusNy9fVfvvwMxv8Ynl6vxoByANLTWplvuj/nF9m2+PDtt1eiHPBr1oIfhCChQMBw6Aw0UulqTKZdfVvfG7VcfIqLG9bcldL/+pdWTLxLUy8Qq38heUIjh4XlzZxzQm19lLFlr8vdQ97rjZVOLf8nclzckbcD4wxXMidpX30sFd37Fv/GtwwhzhxGVAprjbg0gCAEeIgwCZyTV2Z1REEW8O4py0wsjeloKoMr6iCY6dP92H6Vw/oTyICIthibxjm/DfN9lVz8IqtqKYLUXfoKVMVQVVJOElGjrnnUt9T9wbgp8AyYKaGlqingHZU/uG2NTZSVqwHQTWkx9hxjkpWDaCg6Ckj5qebgBVbT3V3NNXMSiWSDdGV3hrtzla7J+duwPOToIg42ChPQOQjspnSlp1V+Gjdged7+8UN5CRAV7a5EdFNwCjEaBR27b3W890TE7g24NAP/mMDXRWrGoFPQI9ls/MWO2dWFAar/xcOIImbbpA3zgAAAABJRU5ErkJggg==);\n",
       "        }\n",
       "    </style>\n",
       "    <div>\n",
       "        <a href=\"https://bokeh.org\" target=\"_blank\" class=\"bk-notebook-logo\"></a>\n",
       "        <span id=\"b5fc8cdb-13c4-43a4-a2f1-a6a63cdee2d8\">Loading BokehJS ...</span>\n",
       "    </div>\n"
      ]
     },
     "metadata": {},
     "output_type": "display_data"
    },
    {
     "data": {
      "application/javascript": "'use strict';\n(function(root) {\n  function now() {\n    return new Date();\n  }\n\n  const force = true;\n\n  if (typeof root._bokeh_onload_callbacks === \"undefined\" || force === true) {\n    root._bokeh_onload_callbacks = [];\n    root._bokeh_is_loading = undefined;\n  }\n\nconst JS_MIME_TYPE = 'application/javascript';\n  const HTML_MIME_TYPE = 'text/html';\n  const EXEC_MIME_TYPE = 'application/vnd.bokehjs_exec.v0+json';\n  const CLASS_NAME = 'output_bokeh rendered_html';\n\n  /**\n   * Render data to the DOM node\n   */\n  function render(props, node) {\n    const script = document.createElement(\"script\");\n    node.appendChild(script);\n  }\n\n  /**\n   * Handle when an output is cleared or removed\n   */\n  function handleClearOutput(event, handle) {\n    function drop(id) {\n      const view = Bokeh.index.get_by_id(id)\n      if (view != null) {\n        view.model.document.clear()\n        Bokeh.index.delete(view)\n      }\n    }\n\n    const cell = handle.cell;\n\n    const id = cell.output_area._bokeh_element_id;\n    const server_id = cell.output_area._bokeh_server_id;\n\n    // Clean up Bokeh references\n    if (id != null) {\n      drop(id)\n    }\n\n    if (server_id !== undefined) {\n      // Clean up Bokeh references\n      const cmd_clean = \"from bokeh.io.state import curstate; print(curstate().uuid_to_server['\" + server_id + \"'].get_sessions()[0].document.roots[0]._id)\";\n      cell.notebook.kernel.execute(cmd_clean, {\n        iopub: {\n          output: function(msg) {\n            const id = msg.content.text.trim()\n            drop(id)\n          }\n        }\n      });\n      // Destroy server and session\n      const cmd_destroy = \"import bokeh.io.notebook as ion; ion.destroy_server('\" + server_id + \"')\";\n      cell.notebook.kernel.execute(cmd_destroy);\n    }\n  }\n\n  /**\n   * Handle when a new output is added\n   */\n  function handleAddOutput(event, handle) {\n    const output_area = handle.output_area;\n    const output = handle.output;\n\n    // limit handleAddOutput to display_data with EXEC_MIME_TYPE content only\n    if ((output.output_type != \"display_data\") || (!Object.prototype.hasOwnProperty.call(output.data, EXEC_MIME_TYPE))) {\n      return\n    }\n\n    const toinsert = output_area.element.find(\".\" + CLASS_NAME.split(' ')[0]);\n\n    if (output.metadata[EXEC_MIME_TYPE][\"id\"] !== undefined) {\n      toinsert[toinsert.length - 1].firstChild.textContent = output.data[JS_MIME_TYPE];\n      // store reference to embed id on output_area\n      output_area._bokeh_element_id = output.metadata[EXEC_MIME_TYPE][\"id\"];\n    }\n    if (output.metadata[EXEC_MIME_TYPE][\"server_id\"] !== undefined) {\n      const bk_div = document.createElement(\"div\");\n      bk_div.innerHTML = output.data[HTML_MIME_TYPE];\n      const script_attrs = bk_div.children[0].attributes;\n      for (let i = 0; i < script_attrs.length; i++) {\n        toinsert[toinsert.length - 1].firstChild.setAttribute(script_attrs[i].name, script_attrs[i].value);\n        toinsert[toinsert.length - 1].firstChild.textContent = bk_div.children[0].textContent\n      }\n      // store reference to server id on output_area\n      output_area._bokeh_server_id = output.metadata[EXEC_MIME_TYPE][\"server_id\"];\n    }\n  }\n\n  function register_renderer(events, OutputArea) {\n\n    function append_mime(data, metadata, element) {\n      // create a DOM node to render to\n      const toinsert = this.create_output_subarea(\n        metadata,\n        CLASS_NAME,\n        EXEC_MIME_TYPE\n      );\n      this.keyboard_manager.register_events(toinsert);\n      // Render to node\n      const props = {data: data, metadata: metadata[EXEC_MIME_TYPE]};\n      render(props, toinsert[toinsert.length - 1]);\n      element.append(toinsert);\n      return toinsert\n    }\n\n    /* Handle when an output is cleared or removed */\n    events.on('clear_output.CodeCell', handleClearOutput);\n    events.on('delete.Cell', handleClearOutput);\n\n    /* Handle when a new output is added */\n    events.on('output_added.OutputArea', handleAddOutput);\n\n    /**\n     * Register the mime type and append_mime function with output_area\n     */\n    OutputArea.prototype.register_mime_type(EXEC_MIME_TYPE, append_mime, {\n      /* Is output safe? */\n      safe: true,\n      /* Index of renderer in `output_area.display_order` */\n      index: 0\n    });\n  }\n\n  // register the mime type if in Jupyter Notebook environment and previously unregistered\n  if (root.Jupyter !== undefined) {\n    const events = require('base/js/events');\n    const OutputArea = require('notebook/js/outputarea').OutputArea;\n\n    if (OutputArea.prototype.mime_types().indexOf(EXEC_MIME_TYPE) == -1) {\n      register_renderer(events, OutputArea);\n    }\n  }\n  if (typeof (root._bokeh_timeout) === \"undefined\" || force === true) {\n    root._bokeh_timeout = Date.now() + 5000;\n    root._bokeh_failed_load = false;\n  }\n\n  const NB_LOAD_WARNING = {'data': {'text/html':\n     \"<div style='background-color: #fdd'>\\n\"+\n     \"<p>\\n\"+\n     \"BokehJS does not appear to have successfully loaded. If loading BokehJS from CDN, this \\n\"+\n     \"may be due to a slow or bad network connection. Possible fixes:\\n\"+\n     \"</p>\\n\"+\n     \"<ul>\\n\"+\n     \"<li>re-rerun `output_notebook()` to attempt to load from CDN again, or</li>\\n\"+\n     \"<li>use INLINE resources instead, as so:</li>\\n\"+\n     \"</ul>\\n\"+\n     \"<code>\\n\"+\n     \"from bokeh.resources import INLINE\\n\"+\n     \"output_notebook(resources=INLINE)\\n\"+\n     \"</code>\\n\"+\n     \"</div>\"}};\n\n  function display_loaded(error = null) {\n    const el = document.getElementById(\"b5fc8cdb-13c4-43a4-a2f1-a6a63cdee2d8\");\n    if (el != null) {\n      const html = (() => {\n        if (typeof root.Bokeh === \"undefined\") {\n          if (error == null) {\n            return \"BokehJS is loading ...\";\n          } else {\n            return \"BokehJS failed to load.\";\n          }\n        } else {\n          const prefix = `BokehJS ${root.Bokeh.version}`;\n          if (error == null) {\n            return `${prefix} successfully loaded.`;\n          } else {\n            return `${prefix} <b>encountered errors</b> while loading and may not function as expected.`;\n          }\n        }\n      })();\n      el.innerHTML = html;\n\n      if (error != null) {\n        const wrapper = document.createElement(\"div\");\n        wrapper.style.overflow = \"auto\";\n        wrapper.style.height = \"5em\";\n        wrapper.style.resize = \"vertical\";\n        const content = document.createElement(\"div\");\n        content.style.fontFamily = \"monospace\";\n        content.style.whiteSpace = \"pre-wrap\";\n        content.style.backgroundColor = \"rgb(255, 221, 221)\";\n        content.textContent = error.stack ?? error.toString();\n        wrapper.append(content);\n        el.append(wrapper);\n      }\n    } else if (Date.now() < root._bokeh_timeout) {\n      setTimeout(() => display_loaded(error), 100);\n    }\n  }\n\n  function run_callbacks() {\n    try {\n      root._bokeh_onload_callbacks.forEach(function(callback) {\n        if (callback != null)\n          callback();\n      });\n    } finally {\n      delete root._bokeh_onload_callbacks\n    }\n    console.debug(\"Bokeh: all callbacks have finished\");\n  }\n\n  function load_libs(css_urls, js_urls, callback) {\n    if (css_urls == null) css_urls = [];\n    if (js_urls == null) js_urls = [];\n\n    root._bokeh_onload_callbacks.push(callback);\n    if (root._bokeh_is_loading > 0) {\n      console.debug(\"Bokeh: BokehJS is being loaded, scheduling callback at\", now());\n      return null;\n    }\n    if (js_urls == null || js_urls.length === 0) {\n      run_callbacks();\n      return null;\n    }\n    console.debug(\"Bokeh: BokehJS not loaded, scheduling load and callback at\", now());\n    root._bokeh_is_loading = css_urls.length + js_urls.length;\n\n    function on_load() {\n      root._bokeh_is_loading--;\n      if (root._bokeh_is_loading === 0) {\n        console.debug(\"Bokeh: all BokehJS libraries/stylesheets loaded\");\n        run_callbacks()\n      }\n    }\n\n    function on_error(url) {\n      console.error(\"failed to load \" + url);\n    }\n\n    for (let i = 0; i < css_urls.length; i++) {\n      const url = css_urls[i];\n      const element = document.createElement(\"link\");\n      element.onload = on_load;\n      element.onerror = on_error.bind(null, url);\n      element.rel = \"stylesheet\";\n      element.type = \"text/css\";\n      element.href = url;\n      console.debug(\"Bokeh: injecting link tag for BokehJS stylesheet: \", url);\n      document.body.appendChild(element);\n    }\n\n    for (let i = 0; i < js_urls.length; i++) {\n      const url = js_urls[i];\n      const element = document.createElement('script');\n      element.onload = on_load;\n      element.onerror = on_error.bind(null, url);\n      element.async = false;\n      element.src = url;\n      console.debug(\"Bokeh: injecting script tag for BokehJS library: \", url);\n      document.head.appendChild(element);\n    }\n  };\n\n  function inject_raw_css(css) {\n    const element = document.createElement(\"style\");\n    element.appendChild(document.createTextNode(css));\n    document.body.appendChild(element);\n  }\n\n  const js_urls = [\"https://cdn.bokeh.org/bokeh/release/bokeh-3.4.1.min.js\", \"https://cdn.bokeh.org/bokeh/release/bokeh-gl-3.4.1.min.js\", \"https://cdn.bokeh.org/bokeh/release/bokeh-widgets-3.4.1.min.js\", \"https://cdn.bokeh.org/bokeh/release/bokeh-tables-3.4.1.min.js\", \"https://cdn.bokeh.org/bokeh/release/bokeh-mathjax-3.4.1.min.js\"];\n  const css_urls = [];\n\n  const inline_js = [    function(Bokeh) {\n      Bokeh.set_log_level(\"info\");\n    },\nfunction(Bokeh) {\n    }\n  ];\n\n  function run_inline_js() {\n    if (root.Bokeh !== undefined || force === true) {\n      try {\n            for (let i = 0; i < inline_js.length; i++) {\n      inline_js[i].call(root, root.Bokeh);\n    }\n\n      } catch (error) {display_loaded(error);throw error;\n      }if (force === true) {\n        display_loaded();\n      }} else if (Date.now() < root._bokeh_timeout) {\n      setTimeout(run_inline_js, 100);\n    } else if (!root._bokeh_failed_load) {\n      console.log(\"Bokeh: BokehJS failed to load within specified timeout.\");\n      root._bokeh_failed_load = true;\n    } else if (force !== true) {\n      const cell = $(document.getElementById(\"b5fc8cdb-13c4-43a4-a2f1-a6a63cdee2d8\")).parents('.cell').data().cell;\n      cell.output_area.append_execute_result(NB_LOAD_WARNING)\n    }\n  }\n\n  if (root._bokeh_is_loading === 0) {\n    console.debug(\"Bokeh: BokehJS loaded, going straight to plotting\");\n    run_inline_js();\n  } else {\n    load_libs(css_urls, js_urls, function() {\n      console.debug(\"Bokeh: BokehJS plotting callback run at\", now());\n      run_inline_js();\n    });\n  }\n}(window));",
      "application/vnd.bokehjs_load.v0+json": ""
     },
     "metadata": {},
     "output_type": "display_data"
    }
   ],
   "source": [
    "import sys\n",
    "import os\n",
    "\n",
    "import warnings\n",
    "warnings.filterwarnings('ignore')\n",
    "import picaso.justdoit as jdi\n",
    "import picaso.justplotit as jpi\n",
    "import virga.justdoit as vj\n",
    "import virga.justplotit as cldplt\n",
    "jpi.output_notebook()\n",
    "import astropy.units as u\n",
    "import numpy as np\n",
    "import matplotlib.pyplot as plt\n",
    "import glob\n",
    "import pickle\n",
    "import matplotlib\n",
    "import pandas as pd\n",
    "matplotlib.rcParams['animation.embed_limit'] = 2**128\n",
    "%matplotlib inline\n",
    "import xarray"
   ]
  },
  {
   "cell_type": "code",
   "execution_count": 2,
   "metadata": {},
   "outputs": [],
   "source": [
    "#1 ck tables from roxana\n",
    "mh = '+000'#'+0.0' #log metallicity\n",
    "CtoO = '100'#'1.0' # CtoO ratio\n",
    "\n",
    "ck_db = f\"../data/kcoeff_2020/sonora_2020_feh{mh}_co_{CtoO}.data.196\"\n",
    "\n",
    "#sonora bobcat cloud free structures file\n",
    "sonora_profile_db = '../data/sonora_bobcat/structures_m+0.0'\n",
    "sonora_dat_db = '../data/sonora_bobcat/structures_m+0.0'"
   ]
  },
  {
   "cell_type": "code",
   "execution_count": 57,
   "metadata": {},
   "outputs": [],
   "source": [
    "cl_run = jdi.inputs(calculation=\"browndwarf\", climate = True) # start a calculation\n",
    "\n",
    "teff= 250 # Effective Temperature of your Brown Dwarf in K\n",
    "grav = 316 # Gravity of your brown dwarf in m/s/s\n",
    "\n",
    "cl_run.gravity(gravity=grav, gravity_unit=u.Unit('m/(s**2)')) # input gravity\n",
    "cl_run.effective_temp(teff) # input effective temperature\n",
    "\n",
    "opacity_ck = jdi.opannection(ck_db=ck_db) # grab your opacities"
   ]
  },
  {
   "cell_type": "code",
   "execution_count": 4,
   "metadata": {},
   "outputs": [],
   "source": [
    "nlevel = 91 # number of plane-parallel levels in your code\n",
    "pressure_bobcat,temp_bobcat = np.loadtxt(jdi.os.path.join(\n",
    "                            sonora_profile_db,f\"t{teff}g{grav}nc_m0.0.dat\"),\n",
    "                            usecols=[1,2],unpack=True, skiprows = 1)"
   ]
  },
  {
   "cell_type": "code",
   "execution_count": 5,
   "metadata": {},
   "outputs": [],
   "source": [
    "nofczns = 1 # number of convective zones initially\n",
    "nstr_upper = 60 # top most level of guessed convective zone\n",
    "nstr_deep = nlevel - 2 # this is always the case. Dont change this\n",
    "nstr = np.array([0,nstr_upper,nstr_deep,0,0,0])\n",
    "rfacv = 0.0 #we are focused on a brown dwarf so let's keep this as is"
   ]
  },
  {
   "cell_type": "code",
   "execution_count": 41,
   "metadata": {},
   "outputs": [],
   "source": [
    "def twod_to_threed(arr, reps=4):\n",
    "    \"\"\"\n",
    "    Takes in a 2D array of size (r, c) and repeats it along the last axis to make an array of size (r, c, reps).\n",
    "    \"\"\"\n",
    "    return np.repeat(arr[:, :, np.newaxis], reps, axis=2)"
   ]
  },
  {
   "cell_type": "code",
   "execution_count": 59,
   "metadata": {},
   "outputs": [
    {
     "name": "stdout",
     "output_type": "stream",
     "text": [
      "Cloudy functionality still in beta form and not ready for public use.\n"
     ]
    }
   ],
   "source": [
    "\n",
    "cl_run.inputs_climate(temp_guess= temp_bobcat, pressure= pressure_bobcat,\n",
    "                      nstr = nstr, nofczns = nofczns , rfacv = rfacv, cloudy = \"fixed\", mh = '0.0', \n",
    "                      CtoO = '1.0',species = ['H2O'], fsed = 8.0, beta = 0.1, virga_param = 'const',\n",
    "                      mieff_dir = \"~/projects/clouds/virga/refrind\", do_holes = False, fhole = 0.5, fthin_cld = 0.9, moistgrad = False,\n",
    "                      opd_climate=twod_to_threed(np.load(\"../data/patchy_clouds_refcloud/opd.npy\")),\n",
    "                      w0_climate=twod_to_threed(np.load(\"../data/patchy_clouds_refcloud/w0.npy\")),\n",
    "                      g0_climate=twod_to_threed(np.load(\"../data/patchy_clouds_refcloud/g0.npy\"))\n",
    "                      )"
   ]
  },
  {
   "cell_type": "code",
   "execution_count": 265,
   "metadata": {},
   "outputs": [],
   "source": [
    "cl_run.inputs[\"climate\"][\"cloudy\"] = \"selfconsistent\""
   ]
  },
  {
   "cell_type": "code",
   "execution_count": 282,
   "metadata": {},
   "outputs": [],
   "source": [
    "cl_run.inputs[\"climate\"][\"guess_temp\"] = out[\"temperature\"]"
   ]
  },
  {
   "cell_type": "code",
   "execution_count": 285,
   "metadata": {},
   "outputs": [],
   "source": [
    "cl_run.inputs[\"climate\"][\"guess_temp\"][np.isnan(out[\"temperature\"])] = out[\"temperature\"][0]"
   ]
  },
  {
   "cell_type": "code",
   "execution_count": 286,
   "metadata": {},
   "outputs": [
    {
     "name": "stdout",
     "output_type": "stream",
     "text": [
      "In t_start: Converged Solution in iterations  0\n",
      "Overwriting some Kz values to minimum value set by kz_min \n",
      "                     You can always turn off these warnings by setting verbose=False\n",
      "Max TAUCLD diff is 7.529499933839743  Tau tolerance is  1.5058999867679486\n",
      "Big iteration is  10.1 0\n",
      "In t_start: Converged Solution in iterations  0\n",
      "Overwriting some Kz values to minimum value set by kz_min \n",
      "                     You can always turn off these warnings by setting verbose=False\n",
      "Max TAUCLD diff is 7.439972916557865  Tau tolerance is  4.499794556847471\n",
      "Big iteration is  10.093965946470703 1\n",
      "Overwriting some Kz values to minimum value set by kz_min \n",
      "                     You can always turn off these warnings by setting verbose=False\n",
      "Max TAUCLD diff is 4.673220646338262  Tau tolerance is  6.864092691274241\n",
      "Big iteration is  130.5685204050317 2\n",
      "In t_start: Converged Solution in iterations  4\n",
      "Overwriting some Kz values to minimum value set by kz_min \n",
      "                     You can always turn off these warnings by setting verbose=False\n",
      "Max TAUCLD diff is 5.881088757982127  Tau tolerance is  7.902130664053098\n",
      "Big iteration is  105.01209659887886 3\n",
      "In t_start: Converged Solution in iterations  3\n",
      "Overwriting some Kz values to minimum value set by kz_min \n",
      "                     You can always turn off these warnings by setting verbose=False\n",
      "Max TAUCLD diff is 7.445568280828857  Tau tolerance is  6.544476630632424\n",
      "Big iteration is  106.43866743483733 4\n",
      "<NULL> 3\n"
     ]
    },
    {
     "ename": "SystemError",
     "evalue": "CPUDispatcher(<function t_start at 0x14eb1afc0>) returned a result with an exception set",
     "output_type": "error",
     "traceback": [
      "\u001b[0;31m---------------------------------------------------------------------------\u001b[0m",
      "\u001b[0;31mKeyboardInterrupt\u001b[0m                         Traceback (most recent call last)",
      "File \u001b[0;32m/opt/anaconda3/envs/picaso2/lib/python3.12/site-packages/numba/core/serialize.py:30\u001b[0m, in \u001b[0;36m_numba_unpickle\u001b[0;34m(address, bytedata, hashed)\u001b[0m\n\u001b[1;32m     27\u001b[0m _unpickled_memo \u001b[38;5;241m=\u001b[39m {}\n\u001b[0;32m---> 30\u001b[0m \u001b[38;5;28;01mdef\u001b[39;00m \u001b[38;5;21m_numba_unpickle\u001b[39m(address, bytedata, hashed):\n\u001b[1;32m     31\u001b[0m \u001b[38;5;250m    \u001b[39m\u001b[38;5;124;03m\"\"\"Used by `numba_unpickle` from _helperlib.c\u001b[39;00m\n\u001b[1;32m     32\u001b[0m \n\u001b[1;32m     33\u001b[0m \u001b[38;5;124;03m    Parameters\u001b[39;00m\n\u001b[0;32m   (...)\u001b[0m\n\u001b[1;32m     42\u001b[0m \u001b[38;5;124;03m        unpickled object\u001b[39;00m\n\u001b[1;32m     43\u001b[0m \u001b[38;5;124;03m    \"\"\"\u001b[39;00m\n",
      "\u001b[0;31mKeyboardInterrupt\u001b[0m: ",
      "\nThe above exception was the direct cause of the following exception:\n",
      "\u001b[0;31mSystemError\u001b[0m                               Traceback (most recent call last)",
      "\u001b[0;31mSystemError\u001b[0m: <function _numba_unpickle at 0x14bf68e00> returned a result with an exception set",
      "\nThe above exception was the direct cause of the following exception:\n",
      "\u001b[0;31mSystemError\u001b[0m                               Traceback (most recent call last)",
      "\u001b[0;31mSystemError\u001b[0m: <function _numba_unpickle at 0x14bf68e00> returned a result with an exception set",
      "\nThe above exception was the direct cause of the following exception:\n",
      "\u001b[0;31mSystemError\u001b[0m                               Traceback (most recent call last)",
      "\u001b[0;31mSystemError\u001b[0m: <function _numba_unpickle at 0x14bf68e00> returned a result with an exception set",
      "\nThe above exception was the direct cause of the following exception:\n",
      "\u001b[0;31mSystemError\u001b[0m                               Traceback (most recent call last)",
      "\u001b[0;31mSystemError\u001b[0m: <function _numba_unpickle at 0x14bf68e00> returned a result with an exception set",
      "\nThe above exception was the direct cause of the following exception:\n",
      "\u001b[0;31mSystemError\u001b[0m                               Traceback (most recent call last)",
      "\u001b[0;31mSystemError\u001b[0m: <function _numba_unpickle at 0x14bf68e00> returned a result with an exception set",
      "\nThe above exception was the direct cause of the following exception:\n",
      "\u001b[0;31mSystemError\u001b[0m                               Traceback (most recent call last)",
      "Cell \u001b[0;32mIn[286], line 1\u001b[0m\n\u001b[0;32m----> 1\u001b[0m out \u001b[38;5;241m=\u001b[39m cl_run\u001b[38;5;241m.\u001b[39mclimate(opacity_ck, save_all_profiles\u001b[38;5;241m=\u001b[39m\u001b[38;5;28;01mTrue\u001b[39;00m,with_spec\u001b[38;5;241m=\u001b[39m\u001b[38;5;28;01mTrue\u001b[39;00m)\n",
      "File \u001b[0;32m~/projects/clouds/picaso/picaso/justdoit.py:3882\u001b[0m, in \u001b[0;36minputs.climate\u001b[0;34m(self, opacityclass, save_all_profiles, as_dict, with_spec, save_all_kzz, diseq_chem, self_consistent_kzz, kz, on_fly, gases_fly, chemeq_first, verbose)\u001b[0m\n\u001b[1;32m   3879\u001b[0m final \u001b[38;5;241m=\u001b[39m \u001b[38;5;28;01mFalse\u001b[39;00m\n\u001b[1;32m   3880\u001b[0m flag_hack \u001b[38;5;241m=\u001b[39m \u001b[38;5;28;01mFalse\u001b[39;00m\n\u001b[0;32m-> 3882\u001b[0m \u001b[38;5;28;01mif\u001b[39;00m chemeq_first: pressure, temperature, dtdp, profile_flag, all_profiles,opd_cld_climate,g0_cld_climate,w0_cld_climate,cld_out,flux_net_ir_layer, flux_plus_ir_attop, all_opd \u001b[38;5;241m=\u001b[39m profile(mieff_dir,it_max, itmx, conv, convt, nofczns,nstr,x_max_mult,\n\u001b[1;32m   3883\u001b[0m     TEMP1,pressure, FOPI, t_table, p_table, grad, cp, opacityclass, grav, \n\u001b[1;32m   3884\u001b[0m     rfaci, rfacv, nlevel, tidal, tmin, tmax, delta_wno, bb , y2 , tp, final , \n\u001b[1;32m   3885\u001b[0m     cloudy, cld_species,mh,fsed,flag_hack, save_profile,all_profiles, all_opd,\n\u001b[1;32m   3886\u001b[0m     opd_cld_climate,g0_cld_climate,w0_cld_climate,beta, param_flag,\n\u001b[1;32m   3887\u001b[0m     fhole\u001b[38;5;241m=\u001b[39mfhole, fthin_cld\u001b[38;5;241m=\u001b[39mfthin_cld, do_holes \u001b[38;5;241m=\u001b[39m do_holes, first_call_ever\u001b[38;5;241m=\u001b[39m\u001b[38;5;28;01mTrue\u001b[39;00m, verbose\u001b[38;5;241m=\u001b[39mverbose, moist \u001b[38;5;241m=\u001b[39m moist)\n\u001b[1;32m   3889\u001b[0m \u001b[38;5;66;03m# second convergence call\u001b[39;00m\n\u001b[1;32m   3890\u001b[0m it_max\u001b[38;5;241m=\u001b[39m \u001b[38;5;241m7\u001b[39m\n",
      "File \u001b[0;32m~/projects/clouds/picaso/picaso/justdoit.py:5011\u001b[0m, in \u001b[0;36mprofile\u001b[0;34m(mieff_dir, it_max, itmx, conv, convt, nofczns, nstr, x_max_mult, temp, pressure, FOPI, t_table, p_table, grad, cp, opacityclass, grav, rfaci, rfacv, nlevel, tidal, tmin, tmax, dwni, bb, y2, tp, final, cloudy, cld_species, mh, fsed, flag_hack, save_profile, all_profiles, all_opd, opd_cld_climate, g0_cld_climate, w0_cld_climate, beta, param_flag, flux_net_ir_layer, flux_plus_ir_attop, first_call_ever, verbose, do_holes, fhole, fthin_cld, moist)\u001b[0m\n\u001b[1;32m   4999\u001b[0m     temp, dtdp, flag_converge, flux_net_ir_layer, flux_plus_ir_attop, all_profiles, cldsave_count \u001b[38;5;241m=\u001b[39m t_start(\n\u001b[1;32m   5000\u001b[0m             nofczns,nstr,it_max,conv,x_max_mult, \n\u001b[1;32m   5001\u001b[0m             rfaci, rfacv, nlevel, temp, pressure, p_table, t_table, \n\u001b[0;32m   (...)\u001b[0m\n\u001b[1;32m   5007\u001b[0m             fhole, DTAU_clear, TAU_clear, W0_clear, COSB_clear, DTAU_OG_clear, TAU_OG_clear, W0_OG_clear,COSB_OG_clear, \n\u001b[1;32m   5008\u001b[0m             W0_no_raman_clear, verbose\u001b[38;5;241m=\u001b[39mverbose, do_holes \u001b[38;5;241m=\u001b[39m \u001b[38;5;28;01mTrue\u001b[39;00m, moist \u001b[38;5;241m=\u001b[39m moist, egp_stepmax\u001b[38;5;241m=\u001b[39megp_stepmax)\n\u001b[1;32m   5010\u001b[0m \u001b[38;5;28;01melse\u001b[39;00m:\n\u001b[0;32m-> 5011\u001b[0m     temp, dtdp, flag_converge, flux_net_ir_layer, flux_plus_ir_attop, all_profiles, cldsave_count \u001b[38;5;241m=\u001b[39m t_start(\n\u001b[1;32m   5012\u001b[0m             nofczns,nstr,it_max,conv,x_max_mult, \n\u001b[1;32m   5013\u001b[0m             rfaci, rfacv, nlevel, temp, pressure, p_table, t_table, \n\u001b[1;32m   5014\u001b[0m             grad, cp, tidal,tmin,tmax,dwni, bb , y2, tp, DTAU, TAU, W0, COSB,ftau_cld, ftau_ray,GCOS2, \n\u001b[1;32m   5015\u001b[0m             DTAU_OG, TAU_OG, W0_OG, COSB_OG, W0_no_raman , surf_reflect, \n\u001b[1;32m   5016\u001b[0m             ubar0,ubar1,cos_theta, FOPI, single_phase,multi_phase,frac_a,frac_b,frac_c,constant_back,constant_forward, \n\u001b[1;32m   5017\u001b[0m             wno,nwno,ng,nt,gweight,tweight, \n\u001b[1;32m   5018\u001b[0m             ngauss, gauss_wts, save_profile, all_profiles,\n\u001b[1;32m   5019\u001b[0m             output_abunds, verbose\u001b[38;5;241m=\u001b[39mverbose, moist \u001b[38;5;241m=\u001b[39m moist, egp_stepmax\u001b[38;5;241m=\u001b[39megp_stepmax)\n\u001b[1;32m   5021\u001b[0m \u001b[38;5;66;03m#NEB stage delete after confirmation from SM\u001b[39;00m\n\u001b[1;32m   5022\u001b[0m \u001b[38;5;66;03m#if (temp <= min(opacityclass.cia_temps)).any():\u001b[39;00m\n\u001b[1;32m   5023\u001b[0m \u001b[38;5;66;03m#    wh = np.where(temp <= min(opacityclass.cia_temps))\u001b[39;00m\n\u001b[0;32m   (...)\u001b[0m\n\u001b[1;32m   5027\u001b[0m \u001b[38;5;66;03m#    else :\u001b[39;00m\n\u001b[1;32m   5028\u001b[0m \u001b[38;5;66;03m#        raise Exception('Many points in your profile went off the grid to lower temperatures. Try re-starting from a different guess profile. Parametrized profiles can work better sometime as guess profiles.')\u001b[39;00m\n\u001b[1;32m   5032\u001b[0m bundle \u001b[38;5;241m=\u001b[39m inputs(calculation\u001b[38;5;241m=\u001b[39m\u001b[38;5;124m'\u001b[39m\u001b[38;5;124mbrown\u001b[39m\u001b[38;5;124m'\u001b[39m)\n",
      "\u001b[0;31mSystemError\u001b[0m: CPUDispatcher(<function t_start at 0x14eb1afc0>) returned a result with an exception set"
     ]
    }
   ],
   "source": [
    "out = cl_run.climate(opacity_ck, save_all_profiles=True,with_spec=True)"
   ]
  },
  {
   "cell_type": "code",
   "execution_count": 175,
   "metadata": {},
   "outputs": [],
   "source": [
    "bundle = jdi.inputs(calculation='brown')\n",
    "bundle.phase_angle(0)\n",
    "bundle.gravity(gravity=grav, gravity_unit=u.Unit('m/s**2'))\n",
    "temp, pressure = out[\"temperature\"], out[\"pressure\"]\n",
    "bundle.add_pt(temperature, pressure)\n",
    "bundle.premix_atmosphere(opacity_ck, df = bundle.inputs['atmosphere']['profile'].loc[:,['pressure','temperature']])\n",
    "DTAU, TAU, W0, COSB,ftau_cld, ftau_ray,GCOS2, DTAU_OG, TAU_OG, W0_OG, COSB_OG, \\\n",
    "                    W0_no_raman, surf_reflect, ubar0,ubar1,cos_theta, single_phase,multi_phase, \\\n",
    "                    frac_a,frac_b,frac_c,constant_back,constant_forward, \\\n",
    "                    wno,nwno,ng,nt, nlevel, ngauss, gauss_wts, mmw, gweight,tweight = jdi.calculate_atm(bundle, opacity_ck)\n",
    "bb, y2, tp = 0, 0, 0\n",
    "FOPI = np.zeros(opacity_ck.nwno) + 1.0\n",
    "Teff = cl_run.inputs[\"planet\"][\"T_eff\"]\n",
    "min_temp = min(opacity_ck.temps)\n",
    "max_temp = max(opacity_ck.temps)\n",
    "if Teff > 300:\n",
    "    tmin = min_temp*(1-extension)\n",
    "else:\n",
    "    tmin = 10\n",
    "tmax = max_temp*(1.3)\n",
    "# tmax = 10000\n",
    "dt = bundle.inputs['climate']['dt_bb_grid']\n",
    "ntmps = int((tmax-tmin)/dt)\n",
    "flux_net_v_layer_full, flux_net_v_full, flux_plus_v_full, flux_minus_v_full , flux_net_ir_layer_full, flux_net_ir_full, flux_plus_ir_full, flux_minus_ir_full = jdi.get_fluxes(pressure, temp, opacity_ck.delta_wno, bb , y2, tp, tmin, tmax, DTAU, TAU, W0, \n",
    "                    COSB,ftau_cld, ftau_ray,GCOS2, DTAU_OG, TAU_OG, W0_OG, COSB_OG, W0_no_raman, surf_reflect, \n",
    "                    ubar0,ubar1,cos_theta, FOPI, single_phase,multi_phase,frac_a,frac_b,frac_c,constant_back,constant_forward, \n",
    "                    wno,nwno,ng,nt,gweight,tweight, nlevel, ngauss, gauss_wts,True, True)#True for reflected, True for thermal\n",
    "mean_molecular_weight = np.mean(mmw)\n",
    "sigma_sb = 0.56687e-4\n",
    "tidal = np.zeros_like(pressure) - sigma_sb *(Teff**4)\n",
    "grad = bundle.inputs[\"climate\"][\"grad\"]\n",
    "cp = bundle.inputs['climate']['cp']\n",
    "nstr = out[\"cvz_locs\"]"
   ]
  },
  {
   "cell_type": "code",
   "execution_count": 224,
   "metadata": {},
   "outputs": [],
   "source": [
    "kzz = jdi.get_kzz(\n",
    "    out[\"pressure\"], out[\"temperature\"],grav,mmw,tidal,flux_net_ir_layer_full, flux_net_ir_layer_full,\n",
    "    cl_run.inputs[\"climate\"][\"t_table\"], cl_run.inputs[\"climate\"][\"p_table\"], cl_run.inputs[\"climate\"][\"grad\"], cl_run.inputs[\"climate\"][\"cp\"],\n",
    "    0,list(nstr),bundle.inputs['atmosphere']['profile'].T.values\n",
    ")\n",
    "bundle.inputs['atmosphere']['profile']['temperature'] = temp\n",
    "bundle.inputs['atmosphere']['profile']['kz'] = kzz"
   ]
  },
  {
   "cell_type": "code",
   "execution_count": 263,
   "metadata": {},
   "outputs": [
    {
     "name": "stdout",
     "output_type": "stream",
     "text": [
      "Overwriting some Kz values to minimum value set by kz_min \n",
      "                     You can always turn off these warnings by setting verbose=False\n"
     ]
    }
   ],
   "source": [
    "cld_out = bundle.virga([\"H2O\"],\"~/projects/clouds/virga/refrind\", fsed=8.0,mh=1.0,mmw = mean_molecular_weight, b = 0.1, param = 'const')"
   ]
  },
  {
   "cell_type": "code",
   "execution_count": 264,
   "metadata": {},
   "outputs": [
    {
     "data": {
      "text/plain": [
       "True"
      ]
     },
     "execution_count": 264,
     "metadata": {},
     "output_type": "execute_result"
    }
   ],
   "source": [
    "np.all(cld_out[\"opd_per_layer\"] == 0)"
   ]
  },
  {
   "cell_type": "code",
   "execution_count": 243,
   "metadata": {},
   "outputs": [],
   "source": [
    "cld_out_df = vj.picaso_format(cld_out[\"opd_per_layer\"], cld_out[\"single_scattering\"], cld_out[\"asymmetry\"], cld_out[\"pressure\"], 1e4 / cld_out[\"wave\"])"
   ]
  },
  {
   "cell_type": "code",
   "execution_count": 252,
   "metadata": {},
   "outputs": [],
   "source": [
    "opa_mon = jdi.opannection()\n",
    "\n",
    "hi_res = jdi.inputs(calculation=\"browndwarf\") # start a calculation\n",
    "grav = 316 # Gravity of your brown dwarf in m/s/s\n",
    "hi_res.gravity(gravity=grav, gravity_unit=u.Unit('m/(s**2)')) # input gravity\n",
    "\n",
    "hi_res.atmosphere(df=out['ptchem_df'])\n",
    "hi_res.clouds(df=cld_out_df)\n",
    "\n",
    "df_spec1 = hi_res.spectrum(opa_mon, calculation='thermal', full_output= True)\n",
    "\n",
    "wno, fp = df_spec1['wavenumber'], df_spec1['thermal'] #erg/cm2/s/cm\n",
    "xmicron = 1e4/wno\n",
    "\n",
    "flamy = fp*1e-8  # per anstrom instead of per cm\n",
    "sp = jdi.psyn.ArraySpectrum(xmicron, flamy,\n",
    "                           waveunits='um',\n",
    "                           fluxunits='FLAM')\n",
    "sp.convert(\"um\")\n",
    "sp.convert('Fnu')  # erg/cm2/s/Hz\n",
    "\n",
    "wno = sp.wave  # micron\n",
    "fp = sp.flux  # erg/cm2/s/Hz\n",
    "df_spec1['fluxnu'] = fp\n",
    "wno,fp = jdi.mean_regrid(1e4/wno,fp, R=200)\n"
   ]
  },
  {
   "cell_type": "code",
   "execution_count": 250,
   "metadata": {},
   "outputs": [
    {
     "data": {
      "image/png": "[encoded data removed]",
      "text/plain": [
       "<Figure size 640x480 with 1 Axes>"
      ]
     },
     "metadata": {},
     "output_type": "display_data"
    }
   ],
   "source": [
    "plt.loglog(1e4/wno,fp_cloudless)\n",
    "plt.loglog(1e4/wno,fp)\n",
    "plt.show()"
   ]
  },
  {
   "cell_type": "code",
   "execution_count": null,
   "metadata": {},
   "outputs": [],
   "source": []
  }
 ],
 "metadata": {
  "kernelspec": {
   "display_name": "Python 3 (ipykernel)",
   "language": "python",
   "name": "python3"
  },
  "language_info": {
   "codemirror_mode": {
    "name": "ipython",
    "version": 3
   },
   "file_extension": ".py",
   "mimetype": "text/x-python",
   "name": "python",
   "nbconvert_exporter": "python",
   "pygments_lexer": "ipython3",
   "version": "3.12.5"
  }
 },
 "nbformat": 4,
 "nbformat_minor": 4
}
