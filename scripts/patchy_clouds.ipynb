{
 "cells": [
  {
   "cell_type": "code",
   "execution_count": 1,
   "metadata": {},
   "outputs": [
    {
     "data": {
      "text/html": [
       "    <style>\n",
       "        .bk-notebook-logo {\n",
       "            display: block;\n",
       "            width: 20px;\n",
       "            height: 20px;\n",
       "            background-image: url(data:image/png;base64,iVBORw0KGgoAAAANSUhEUgAAABQAAAAUCAYAAACNiR0NAAAABHNCSVQICAgIfAhkiAAAAAlwSFlzAAALEgAACxIB0t1+/AAAABx0RVh0U29mdHdhcmUAQWRvYmUgRmlyZXdvcmtzIENTNui8sowAAAOkSURBVDiNjZRtaJVlGMd/1/08zzln5zjP1LWcU9N0NkN8m2CYjpgQYQXqSs0I84OLIC0hkEKoPtiH3gmKoiJDU7QpLgoLjLIQCpEsNJ1vqUOdO7ppbuec5+V+rj4ctwzd8IIbbi6u+8f1539dt3A78eXC7QizUF7gyV1fD1Yqg4JWz84yffhm0qkFqBogB9rM8tZdtwVsPUhWhGcFJngGeWrPzHm5oaMmkfEg1usvLFyc8jLRqDOMru7AyC8saQr7GG7f5fvDeH7Ej8CM66nIF+8yngt6HWaKh7k49Soy9nXurCi1o3qUbS3zWfrYeQDTB/Qj6kX6Ybhw4B+bOYoLKCC9H3Nu/leUTZ1JdRWkkn2ldcCamzrcf47KKXdAJllSlxAOkRgyHsGC/zRday5Qld9DyoM4/q/rUoy/CXh3jzOu3bHUVZeU+DEn8FInkPBFlu3+nW3Nw0mk6vCDiWg8CeJaxEwuHS3+z5RgY+YBR6V1Z1nxSOfoaPa4LASWxxdNp+VWTk7+4vzaou8v8PN+xo+KY2xsw6une2frhw05CTYOmQvsEhjhWjn0bmXPjpE1+kplmmkP3suftwTubK9Vq22qKmrBhpY4jvd5afdRA3wGjFAgcnTK2s4hY0/GPNIb0nErGMCRxWOOX64Z8RAC4oCXdklmEvcL8o0BfkNK4lUg9HTl+oPlQxdNo3Mg4Nv175e/1LDGzZen30MEjRUtmXSfiTVu1kK8W4txyV6BMKlbgk3lMwYCiusNy9fVfvvwMxv8Ynl6vxoByANLTWplvuj/nF9m2+PDtt1eiHPBr1oIfhCChQMBw6Aw0UulqTKZdfVvfG7VcfIqLG9bcldL/+pdWTLxLUy8Qq38heUIjh4XlzZxzQm19lLFlr8vdQ97rjZVOLf8nclzckbcD4wxXMidpX30sFd37Fv/GtwwhzhxGVAprjbg0gCAEeIgwCZyTV2Z1REEW8O4py0wsjeloKoMr6iCY6dP92H6Vw/oTyICIthibxjm/DfN9lVz8IqtqKYLUXfoKVMVQVVJOElGjrnnUt9T9wbgp8AyYKaGlqingHZU/uG2NTZSVqwHQTWkx9hxjkpWDaCg6Ckj5qebgBVbT3V3NNXMSiWSDdGV3hrtzla7J+duwPOToIg42ChPQOQjspnSlp1V+Gjdged7+8UN5CRAV7a5EdFNwCjEaBR27b3W890TE7g24NAP/mMDXRWrGoFPQI9ls/MWO2dWFAar/xcOIImbbpA3zgAAAABJRU5ErkJggg==);\n",
       "        }\n",
       "    </style>\n",
       "    <div>\n",
       "        <a href=\"https://bokeh.org\" target=\"_blank\" class=\"bk-notebook-logo\"></a>\n",
       "        <span id=\"a51fbc5f-c287-4b8e-a980-5e1b432350da\">Loading BokehJS ...</span>\n",
       "    </div>\n"
      ]
     },
     "metadata": {},
     "output_type": "display_data"
    },
    {
     "data": {
      "application/javascript": "'use strict';\n(function(root) {\n  function now() {\n    return new Date();\n  }\n\n  const force = true;\n\n  if (typeof root._bokeh_onload_callbacks === \"undefined\" || force === true) {\n    root._bokeh_onload_callbacks = [];\n    root._bokeh_is_loading = undefined;\n  }\n\nconst JS_MIME_TYPE = 'application/javascript';\n  const HTML_MIME_TYPE = 'text/html';\n  const EXEC_MIME_TYPE = 'application/vnd.bokehjs_exec.v0+json';\n  const CLASS_NAME = 'output_bokeh rendered_html';\n\n  /**\n   * Render data to the DOM node\n   */\n  function render(props, node) {\n    const script = document.createElement(\"script\");\n    node.appendChild(script);\n  }\n\n  /**\n   * Handle when an output is cleared or removed\n   */\n  function handleClearOutput(event, handle) {\n    function drop(id) {\n      const view = Bokeh.index.get_by_id(id)\n      if (view != null) {\n        view.model.document.clear()\n        Bokeh.index.delete(view)\n      }\n    }\n\n    const cell = handle.cell;\n\n    const id = cell.output_area._bokeh_element_id;\n    const server_id = cell.output_area._bokeh_server_id;\n\n    // Clean up Bokeh references\n    if (id != null) {\n      drop(id)\n    }\n\n    if (server_id !== undefined) {\n      // Clean up Bokeh references\n      const cmd_clean = \"from bokeh.io.state import curstate; print(curstate().uuid_to_server['\" + server_id + \"'].get_sessions()[0].document.roots[0]._id)\";\n      cell.notebook.kernel.execute(cmd_clean, {\n        iopub: {\n          output: function(msg) {\n            const id = msg.content.text.trim()\n            drop(id)\n          }\n        }\n      });\n      // Destroy server and session\n      const cmd_destroy = \"import bokeh.io.notebook as ion; ion.destroy_server('\" + server_id + \"')\";\n      cell.notebook.kernel.execute(cmd_destroy);\n    }\n  }\n\n  /**\n   * Handle when a new output is added\n   */\n  function handleAddOutput(event, handle) {\n    const output_area = handle.output_area;\n    const output = handle.output;\n\n    // limit handleAddOutput to display_data with EXEC_MIME_TYPE content only\n    if ((output.output_type != \"display_data\") || (!Object.prototype.hasOwnProperty.call(output.data, EXEC_MIME_TYPE))) {\n      return\n    }\n\n    const toinsert = output_area.element.find(\".\" + CLASS_NAME.split(' ')[0]);\n\n    if (output.metadata[EXEC_MIME_TYPE][\"id\"] !== undefined) {\n      toinsert[toinsert.length - 1].firstChild.textContent = output.data[JS_MIME_TYPE];\n      // store reference to embed id on output_area\n      output_area._bokeh_element_id = output.metadata[EXEC_MIME_TYPE][\"id\"];\n    }\n    if (output.metadata[EXEC_MIME_TYPE][\"server_id\"] !== undefined) {\n      const bk_div = document.createElement(\"div\");\n      bk_div.innerHTML = output.data[HTML_MIME_TYPE];\n      const script_attrs = bk_div.children[0].attributes;\n      for (let i = 0; i < script_attrs.length; i++) {\n        toinsert[toinsert.length - 1].firstChild.setAttribute(script_attrs[i].name, script_attrs[i].value);\n        toinsert[toinsert.length - 1].firstChild.textContent = bk_div.children[0].textContent\n      }\n      // store reference to server id on output_area\n      output_area._bokeh_server_id = output.metadata[EXEC_MIME_TYPE][\"server_id\"];\n    }\n  }\n\n  function register_renderer(events, OutputArea) {\n\n    function append_mime(data, metadata, element) {\n      // create a DOM node to render to\n      const toinsert = this.create_output_subarea(\n        metadata,\n        CLASS_NAME,\n        EXEC_MIME_TYPE\n      );\n      this.keyboard_manager.register_events(toinsert);\n      // Render to node\n      const props = {data: data, metadata: metadata[EXEC_MIME_TYPE]};\n      render(props, toinsert[toinsert.length - 1]);\n      element.append(toinsert);\n      return toinsert\n    }\n\n    /* Handle when an output is cleared or removed */\n    events.on('clear_output.CodeCell', handleClearOutput);\n    events.on('delete.Cell', handleClearOutput);\n\n    /* Handle when a new output is added */\n    events.on('output_added.OutputArea', handleAddOutput);\n\n    /**\n     * Register the mime type and append_mime function with output_area\n     */\n    OutputArea.prototype.register_mime_type(EXEC_MIME_TYPE, append_mime, {\n      /* Is output safe? */\n      safe: true,\n      /* Index of renderer in `output_area.display_order` */\n      index: 0\n    });\n  }\n\n  // register the mime type if in Jupyter Notebook environment and previously unregistered\n  if (root.Jupyter !== undefined) {\n    const events = require('base/js/events');\n    const OutputArea = require('notebook/js/outputarea').OutputArea;\n\n    if (OutputArea.prototype.mime_types().indexOf(EXEC_MIME_TYPE) == -1) {\n      register_renderer(events, OutputArea);\n    }\n  }\n  if (typeof (root._bokeh_timeout) === \"undefined\" || force === true) {\n    root._bokeh_timeout = Date.now() + 5000;\n    root._bokeh_failed_load = false;\n  }\n\n  const NB_LOAD_WARNING = {'data': {'text/html':\n     \"<div style='background-color: #fdd'>\\n\"+\n     \"<p>\\n\"+\n     \"BokehJS does not appear to have successfully loaded. If loading BokehJS from CDN, this \\n\"+\n     \"may be due to a slow or bad network connection. Possible fixes:\\n\"+\n     \"</p>\\n\"+\n     \"<ul>\\n\"+\n     \"<li>re-rerun `output_notebook()` to attempt to load from CDN again, or</li>\\n\"+\n     \"<li>use INLINE resources instead, as so:</li>\\n\"+\n     \"</ul>\\n\"+\n     \"<code>\\n\"+\n     \"from bokeh.resources import INLINE\\n\"+\n     \"output_notebook(resources=INLINE)\\n\"+\n     \"</code>\\n\"+\n     \"</div>\"}};\n\n  function display_loaded(error = null) {\n    const el = document.getElementById(\"a51fbc5f-c287-4b8e-a980-5e1b432350da\");\n    if (el != null) {\n      const html = (() => {\n        if (typeof root.Bokeh === \"undefined\") {\n          if (error == null) {\n            return \"BokehJS is loading ...\";\n          } else {\n            return \"BokehJS failed to load.\";\n          }\n        } else {\n          const prefix = `BokehJS ${root.Bokeh.version}`;\n          if (error == null) {\n            return `${prefix} successfully loaded.`;\n          } else {\n            return `${prefix} <b>encountered errors</b> while loading and may not function as expected.`;\n          }\n        }\n      })();\n      el.innerHTML = html;\n\n      if (error != null) {\n        const wrapper = document.createElement(\"div\");\n        wrapper.style.overflow = \"auto\";\n        wrapper.style.height = \"5em\";\n        wrapper.style.resize = \"vertical\";\n        const content = document.createElement(\"div\");\n        content.style.fontFamily = \"monospace\";\n        content.style.whiteSpace = \"pre-wrap\";\n        content.style.backgroundColor = \"rgb(255, 221, 221)\";\n        content.textContent = error.stack ?? error.toString();\n        wrapper.append(content);\n        el.append(wrapper);\n      }\n    } else if (Date.now() < root._bokeh_timeout) {\n      setTimeout(() => display_loaded(error), 100);\n    }\n  }\n\n  function run_callbacks() {\n    try {\n      root._bokeh_onload_callbacks.forEach(function(callback) {\n        if (callback != null)\n          callback();\n      });\n    } finally {\n      delete root._bokeh_onload_callbacks\n    }\n    console.debug(\"Bokeh: all callbacks have finished\");\n  }\n\n  function load_libs(css_urls, js_urls, callback) {\n    if (css_urls == null) css_urls = [];\n    if (js_urls == null) js_urls = [];\n\n    root._bokeh_onload_callbacks.push(callback);\n    if (root._bokeh_is_loading > 0) {\n      console.debug(\"Bokeh: BokehJS is being loaded, scheduling callback at\", now());\n      return null;\n    }\n    if (js_urls == null || js_urls.length === 0) {\n      run_callbacks();\n      return null;\n    }\n    console.debug(\"Bokeh: BokehJS not loaded, scheduling load and callback at\", now());\n    root._bokeh_is_loading = css_urls.length + js_urls.length;\n\n    function on_load() {\n      root._bokeh_is_loading--;\n      if (root._bokeh_is_loading === 0) {\n        console.debug(\"Bokeh: all BokehJS libraries/stylesheets loaded\");\n        run_callbacks()\n      }\n    }\n\n    function on_error(url) {\n      console.error(\"failed to load \" + url);\n    }\n\n    for (let i = 0; i < css_urls.length; i++) {\n      const url = css_urls[i];\n      const element = document.createElement(\"link\");\n      element.onload = on_load;\n      element.onerror = on_error.bind(null, url);\n      element.rel = \"stylesheet\";\n      element.type = \"text/css\";\n      element.href = url;\n      console.debug(\"Bokeh: injecting link tag for BokehJS stylesheet: \", url);\n      document.body.appendChild(element);\n    }\n\n    for (let i = 0; i < js_urls.length; i++) {\n      const url = js_urls[i];\n      const element = document.createElement('script');\n      element.onload = on_load;\n      element.onerror = on_error.bind(null, url);\n      element.async = false;\n      element.src = url;\n      console.debug(\"Bokeh: injecting script tag for BokehJS library: \", url);\n      document.head.appendChild(element);\n    }\n  };\n\n  function inject_raw_css(css) {\n    const element = document.createElement(\"style\");\n    element.appendChild(document.createTextNode(css));\n    document.body.appendChild(element);\n  }\n\n  const js_urls = [\"https://cdn.bokeh.org/bokeh/release/bokeh-3.4.1.min.js\", \"https://cdn.bokeh.org/bokeh/release/bokeh-gl-3.4.1.min.js\", \"https://cdn.bokeh.org/bokeh/release/bokeh-widgets-3.4.1.min.js\", \"https://cdn.bokeh.org/bokeh/release/bokeh-tables-3.4.1.min.js\", \"https://cdn.bokeh.org/bokeh/release/bokeh-mathjax-3.4.1.min.js\"];\n  const css_urls = [];\n\n  const inline_js = [    function(Bokeh) {\n      Bokeh.set_log_level(\"info\");\n    },\nfunction(Bokeh) {\n    }\n  ];\n\n  function run_inline_js() {\n    if (root.Bokeh !== undefined || force === true) {\n      try {\n            for (let i = 0; i < inline_js.length; i++) {\n      inline_js[i].call(root, root.Bokeh);\n    }\n\n      } catch (error) {display_loaded(error);throw error;\n      }if (force === true) {\n        display_loaded();\n      }} else if (Date.now() < root._bokeh_timeout) {\n      setTimeout(run_inline_js, 100);\n    } else if (!root._bokeh_failed_load) {\n      console.log(\"Bokeh: BokehJS failed to load within specified timeout.\");\n      root._bokeh_failed_load = true;\n    } else if (force !== true) {\n      const cell = $(document.getElementById(\"a51fbc5f-c287-4b8e-a980-5e1b432350da\")).parents('.cell').data().cell;\n      cell.output_area.append_execute_result(NB_LOAD_WARNING)\n    }\n  }\n\n  if (root._bokeh_is_loading === 0) {\n    console.debug(\"Bokeh: BokehJS loaded, going straight to plotting\");\n    run_inline_js();\n  } else {\n    load_libs(css_urls, js_urls, function() {\n      console.debug(\"Bokeh: BokehJS plotting callback run at\", now());\n      run_inline_js();\n    });\n  }\n}(window));",
      "application/vnd.bokehjs_load.v0+json": ""
     },
     "metadata": {},
     "output_type": "display_data"
    }
   ],
   "source": [
    "import sys\n",
    "import os\n",
    "\n",
    "import warnings\n",
    "warnings.filterwarnings('ignore')\n",
    "import picaso.justdoit as jdi\n",
    "import picaso.justplotit as jpi\n",
    "import virga.justdoit as vj\n",
    "import virga.justplotit as cldplt\n",
    "jpi.output_notebook()\n",
    "import astropy.units as u\n",
    "import numpy as np\n",
    "import matplotlib.pyplot as plt\n",
    "import glob\n",
    "import pickle\n",
    "import matplotlib\n",
    "matplotlib.rcParams['animation.embed_limit'] = 2**128\n",
    "%matplotlib inline\n",
    "import xarray"
   ]
  },
  {
   "cell_type": "code",
   "execution_count": 2,
   "metadata": {},
   "outputs": [],
   "source": [
    "#1 ck tables from roxana\n",
    "mh = '+000'#'+0.0' #log metallicity\n",
    "CtoO = '100'#'1.0' # CtoO ratio\n",
    "\n",
    "ck_db = f\"../data/kcoeff_2020/sonora_2020_feh{mh}_co_{CtoO}.data.196\"\n",
    "\n",
    "#sonora bobcat cloud free structures file\n",
    "sonora_profile_db = '../data/sonora_bobcat/structures_m+0.0'\n",
    "sonora_dat_db = '../data/sonora_bobcat/structures_m+0.0'"
   ]
  },
  {
   "cell_type": "code",
   "execution_count": 3,
   "metadata": {},
   "outputs": [],
   "source": [
    "cl_run = jdi.inputs(calculation=\"browndwarf\", climate = True) # start a calculation\n",
    "\n",
    "teff= 250 # Effective Temperature of your Brown Dwarf in K\n",
    "grav = 316 # Gravity of your brown dwarf in m/s/s\n",
    "\n",
    "cl_run.gravity(gravity=grav, gravity_unit=u.Unit('m/(s**2)')) # input gravity\n",
    "cl_run.effective_temp(teff) # input effective temperature\n",
    "\n",
    "opacity_ck = jdi.opannection(ck_db=ck_db) # grab your opacities"
   ]
  },
  {
   "cell_type": "code",
   "execution_count": 4,
   "metadata": {},
   "outputs": [],
   "source": [
    "nlevel = 91 # number of plane-parallel levels in your code\n",
    "\n",
    "#Lets set the max and min at 1e-4 bars and 500 bars\n",
    "\n",
    "# Pmin = 1e-4 #bars\n",
    "# Pmax = 200 #bars\n",
    "# pressure=np.logspace(np.log10(Pmin),np.log10(Pmax),nlevel) # set your pressure grid\n",
    "\n",
    "# temp_guess = np.zeros(shape=(nlevel)) + 500 # K , isothermal atmosphere guess\n",
    "\n",
    "pressure_bobcat,temp_bobcat = np.loadtxt(jdi.os.path.join(\n",
    "                            sonora_profile_db,f\"t{teff}g{grav}nc_m0.0.dat\"),\n",
    "                            usecols=[1,2],unpack=True, skiprows = 1)"
   ]
  },
  {
   "cell_type": "code",
   "execution_count": 5,
   "metadata": {},
   "outputs": [],
   "source": [
    "nofczns = 1 # number of convective zones initially\n",
    "\n",
    "nstr_upper = 60 # top most level of guessed convective zone\n",
    "nstr_deep = nlevel - 2 # this is always the case. Dont change this\n",
    "# nstr = np.array([0,nstr_upper,nstr_deep,0,0,0]) # single convective zone\n",
    "\n",
    "nstr = np.array([0,nstr_upper,nstr_deep,0,0,0])\n",
    "\n",
    "# Here are some other parameters needed for the code.\n",
    "rfacv = 0.0 #we are focused on a brown dwarf so let's keep this as is"
   ]
  },
  {
   "cell_type": "code",
   "execution_count": 6,
   "metadata": {},
   "outputs": [
    {
     "name": "stdout",
     "output_type": "stream",
     "text": [
      "Cloudy functionality still in beta form and not ready for public use.\n"
     ]
    }
   ],
   "source": [
    "cl_run.inputs_climate(temp_guess= temp_bobcat, pressure= pressure_bobcat,\n",
    "                      nstr = nstr, nofczns = nofczns , rfacv = rfacv, cloudy = \"fixed\", mh = '0.0', \n",
    "                      CtoO = '1.0',species = ['H2O'], fsed = 8.0, beta = 0.1, virga_param = 'const',\n",
    "                      mieff_dir = \"~/projects/clouds/virga/refrind\", do_holes = False, fhole = 0.5, fthin_cld = 0.9, moistgrad = False\n",
    "                      )"
   ]
  },
  {
   "cell_type": "code",
   "execution_count": 7,
   "metadata": {},
   "outputs": [
    {
     "name": "stdout",
     "output_type": "stream",
     "text": [
      "Iteration number  0 , min , max temp  79.83677626679349 1322.7016688042108 , flux balance  0.006040328213739502\n",
      "Iteration number  1 , min , max temp  83.74618078944286 1323.276785445507 , flux balance  0.005994837950146671\n",
      "Iteration number  2 , min , max temp  87.27330857533819 1323.9593664338665 , flux balance  0.005941468042615865\n",
      "Iteration number  3 , min , max temp  90.46785025282183 1324.7670777168212 , flux balance  0.005879171269274618\n",
      "Iteration number  4 , min , max temp  93.37992671584963 1325.7197178153726 , flux balance  0.005806869899423191\n",
      "Iteration number  5 , min , max temp  96.0493623290581 1326.8360349928375 , flux balance  0.005723701567777737\n",
      "Iteration number  6 , min , max temp  97.791563069041 1328.1303241494074 , flux balance  0.005629234467041436\n",
      "Iteration number  7 , min , max temp  98.60258011079016 1329.6097638547246 , flux balance  0.005523577603094917\n",
      "Iteration number  8 , min , max temp  98.24773684316173 1331.273145759563 , flux balance  0.005407359133337887\n",
      "Iteration number  9 , min , max temp  97.85603010678923 1333.1113483873878 , flux balance  0.005281588555321287\n",
      "Iterations exceeded it_max ! sorry \n",
      "Big iteration is  97.85603010678923 0\n",
      "Iteration number  0 , min , max temp  97.92045752513874 1336.6629455898658 , flux balance  0.00443688569737425\n",
      "Iteration number  1 , min , max temp  97.98931026072684 1340.1015784908884 , flux balance  0.004289354698366091\n",
      "Iteration number  2 , min , max temp  97.81822567751304 1343.4316127000416 , flux balance  0.004140716288527721\n",
      "Iteration number  3 , min , max temp  97.54625432361058 1346.6629045072575 , flux balance  0.003991131448905367\n",
      "Iteration number  4 , min , max temp  97.04431893525175 1349.8001518328686 , flux balance  0.0038439769106917657\n",
      "Iteration number  5 , min , max temp  95.9229951613151 1352.8473621447438 , flux balance  0.0036955536497244213\n",
      "Iteration number  6 , min , max temp  94.45111803748614 1355.8070271424654 , flux balance  0.0035460663635074005\n",
      "Iteration number  7 , min , max temp  92.98168801740037 1358.686195243938 , flux balance  0.0033957480443723527\n",
      "Iteration number  8 , min , max temp  91.51527346108327 1361.4872196548813 , flux balance  0.0032440468556485663\n",
      "Iteration number  9 , min , max temp  90.05231179059591 1364.2137669621245 , flux balance  0.00309089234508714\n",
      "Iterations exceeded it_max ! sorry \n",
      "Big iteration is  90.05231179059591 1\n",
      "Iteration number  0 , min , max temp  91.28137526110639 1364.9332215195236 , flux balance  0.0008169285591576005\n",
      "Iteration number  1 , min , max temp  92.60595316089318 1365.687589811465 , flux balance  0.0008017409823200466\n",
      "Iteration number  2 , min , max temp  94.02694703331288 1366.4798166536132 , flux balance  0.0007862024611529129\n",
      "Iteration number  3 , min , max temp  95.53756222123785 1367.3129654404743 , flux balance  0.0007703245108383669\n",
      "Iteration number  4 , min , max temp  97.1226159092225 1368.1901866832384 , flux balance  0.0007541272946136201\n",
      "Iteration number  5 , min , max temp  98.76044052516237 1369.1141863071925 , flux balance  0.0007376321941236411\n",
      "Iteration number  6 , min , max temp  100.42626422937049 1370.0880988522367 , flux balance  0.0007208777520961543\n",
      "Iteration number  7 , min , max temp  102.09641169291403 1371.1156174802095 , flux balance  0.0007038927167017373\n",
      "Iteration number  8 , min , max temp  103.75126654141292 1372.1998831633928 , flux balance  0.0006867666405070154\n",
      "Iteration number  9 , min , max temp  105.37653531127944 1373.3437848754515 , flux balance  0.0006695750685638753\n",
      "Iterations exceeded it_max ! sorry \n",
      "Profile converged before itmx\n",
      "Iteration number  0 , min , max temp  103.81839173156362 1375.295790263406 , flux balance  0.00047605445982694904\n",
      "Iteration number  1 , min , max temp  102.25707273599957 1377.1967878463533 , flux balance  0.00047359470616821253\n",
      "Iteration number  2 , min , max temp  100.6935114740268 1379.049710409724 , flux balance  0.00046984665394502286\n",
      "Iteration number  3 , min , max temp  99.1285026598385 1380.8572681849992 , flux balance  0.000464851997859752\n",
      "Iteration number  4 , min , max temp  97.56271218591756 1382.6219489436648 , flux balance  0.000458640258232014\n",
      "Iteration number  5 , min , max temp  95.99667850089995 1384.3460208746314 , flux balance  0.0004512288868006689\n",
      "Iteration number  6 , min , max temp  94.4308223887198 1386.03148883234 , flux balance  0.0004426177061426134\n",
      "Iterations exceeded it_max ! sorry \n",
      "Big iteration is  94.4308223887198 0\n",
      "Iteration number  0 , min , max temp  93.83867831524088 1388.7197278432475 , flux balance  0.0010183473430129826\n",
      "Iteration number  1 , min , max temp  93.2503429115013 1391.3508825860883 , flux balance  0.0009731650035613786\n",
      "Iteration number  2 , min , max temp  92.66575867118627 1393.9253786477373 , flux balance  0.0009220331267344131\n",
      "Iteration number  3 , min , max temp  92.0846170299415 1396.443250533583 , flux balance  0.0008634313247835161\n",
      "Iteration number  4 , min , max temp  91.50647661319225 1398.902245113257 , flux balance  0.0007963068929685887\n",
      "Iteration number  5 , min , max temp  90.93063105329534 1401.3033620620797 , flux balance  0.0007193263662445353\n",
      "Iteration number  6 , min , max temp  90.35596680481072 1403.6470385385246 , flux balance  0.0006305303451560405\n",
      "Iterations exceeded it_max ! sorry \n",
      "Big iteration is  90.35596680481072 1\n",
      "Iteration number  0 , min , max temp  90.84022645270234 1403.902566545979 , flux balance  0.0021595703825593258\n",
      "Iteration number  1 , min , max temp  91.38026788384502 1404.1888016353575 , flux balance  0.002106764392155412\n",
      "Iteration number  2 , min , max temp  91.98307866129446 1404.508496155988 , flux balance  0.0020479182636759167\n",
      "Iteration number  3 , min , max temp  92.65627348639231 1404.8645575686357 , flux balance  0.001982534168053207\n",
      "Iteration number  4 , min , max temp  93.40725874847215 1405.2599714535831 , flux balance  0.0019101047487108825\n",
      "Iteration number  5 , min , max temp  94.24207938177496 1405.6976733311403 , flux balance  0.0018301348828338806\n",
      "Iteration number  6 , min , max temp  95.16399638467956 1406.1803576260697 , flux balance  0.0017421730006262858\n",
      "Iterations exceeded it_max ! sorry \n",
      "Profile converged before itmx\n",
      "Iteration number  0 , min , max temp  93.95697609491647 1394.0841225024963 , flux balance  -0.021700973166781448\n",
      "Iteration number  1 , min , max temp  92.76202192068068 1395.1736023644569 , flux balance  -0.020187919438253956\n",
      "Iteration number  2 , min , max temp  91.58036344563162 1396.2422109945596 , flux balance  -0.01869777837237895\n",
      "Iteration number  3 , min , max temp  90.41269042043643 1397.2894844315679 , flux balance  -0.01723073430043134\n",
      "Iteration number  4 , min , max temp  89.25923890908528 1398.3156977714423 , flux balance  -0.01578685371771302\n",
      "Iteration number  5 , min , max temp  88.11986731660954 1399.3209750034464 , flux balance  -0.014366123685673636\n",
      "Iteration number  6 , min , max temp  86.99413403753843 1400.3060383937138 , flux balance  -0.01296849893735242\n",
      "Iteration number  7 , min , max temp  85.88141039219786 1401.271208418627 , flux balance  -0.011593928451809848\n",
      "Iterations exceeded it_max ! sorry \n",
      "Big iteration is  85.88141039219786 0\n",
      "Iteration number  0 , min , max temp  87.9507572664667 1401.3775483731054 , flux balance  -0.013875231111509354\n",
      "Iteration number  1 , min , max temp  89.95218632889106 1401.4916466069762 , flux balance  -0.01371059010752505\n",
      "Iteration number  2 , min , max temp  91.86743167549 1401.6138764383818 , flux balance  -0.01353412040623897\n",
      "Iteration number  3 , min , max temp  93.69024204406986 1401.7446218291711 , flux balance  -0.01334524756145604\n",
      "Iteration number  4 , min , max temp  95.42416825145507 1401.884275748791 , flux balance  -0.013143374645798393\n",
      "Iteration number  5 , min , max temp  97.07860305221611 1402.0331799570458 , flux balance  -0.012927881910207373\n",
      "Iteration number  6 , min , max temp  98.66527753550474 1402.1918338892183 , flux balance  -0.012698118540359724\n",
      "Iteration number  7 , min , max temp  100.19571465103624 1402.360687562572 , flux balance  -0.012453401286282804\n",
      "Iterations exceeded it_max ! sorry \n",
      "Profile converged before itmx\n",
      "Iteration number  0 , min , max temp  98.61944153682869 1356.1889182059601 , flux balance  -0.09921904486789872\n",
      "Iteration number  1 , min , max temp  97.03499583383712 1358.3293436318784 , flux balance  -0.09272536809581759\n",
      "Iteration number  2 , min , max temp  95.44477849036411 1360.4162743976349 , flux balance  -0.08634149536999063\n",
      "Iteration number  3 , min , max temp  93.85089060004884 1362.4513501531385 , flux balance  -0.08006271787043352\n",
      "Iteration number  4 , min , max temp  92.25508696523711 1364.438456934437 , flux balance  -0.0738847350865201\n",
      "Iteration number  5 , min , max temp  90.65874132942564 1366.379793012736 , flux balance  -0.067803645336801\n",
      "Iteration number  6 , min , max temp  89.06287695756504 1368.2773532431254 , flux balance  -0.06181593672134509\n",
      "Iteration number  7 , min , max temp  87.46816045116333 1370.1312902974014 , flux balance  -0.05591851553593281\n",
      "Iterations exceeded it_max ! sorry \n",
      "Big iteration is  87.46816045116333 0\n",
      "Iteration number  0 , min , max temp  89.41043842173337 1370.3795288594822 , flux balance  -0.07114665766967139\n",
      "Iteration number  1 , min , max temp  91.33675989108828 1370.6410204254341 , flux balance  -0.07030031665780444\n",
      "Iteration number  2 , min , max temp  93.22603055853824 1370.9169050975336 , flux balance  -0.06940647696449309\n",
      "Iteration number  3 , min , max temp  95.0633124861988 1371.2084581220513 , flux balance  -0.0684608520541087\n",
      "Iteration number  4 , min , max temp  96.84106316254609 1371.517097011407 , flux balance  -0.06745866576204505\n",
      "Iteration number  5 , min , max temp  98.55832606813041 1371.8443793357817 , flux balance  -0.06639465389655834\n",
      "Iteration number  6 , min , max temp  100.21833745741006 1372.192007633278 , flux balance  -0.06526304193794\n",
      "Iteration number  7 , min , max temp  101.8267084848105 1372.5618442816624 , flux balance  -0.06405748923635356\n",
      "Iterations exceeded it_max ! sorry \n",
      "Profile converged before itmx\n",
      "Move up two levels\n",
      "Iteration number  0 , min , max temp  100.66495924886257 1273.9369982738697 , flux balance  -0.22407950969573884\n",
      "Iteration number  1 , min , max temp  99.47510311137374 1279.3705021418518 , flux balance  -0.2071732321068311\n",
      "Iteration number  2 , min , max temp  98.25845010017949 1284.705930076672 , flux balance  -0.19019954823385832\n",
      "Iteration number  3 , min , max temp  97.01635721557797 1289.948723450151 , flux balance  -0.17317278310672662\n",
      "Iteration number  4 , min , max temp  95.75021337265709 1295.0984064729403 , flux balance  -0.15610350230051123\n",
      "Iteration number  5 , min , max temp  94.46138607542242 1300.1581078877011 , flux balance  -0.13900265299652975\n",
      "Iteration number  6 , min , max temp  93.15120702563122 1305.1276684986483 , flux balance  -0.12188003379904849\n",
      "Iteration number  7 , min , max temp  91.82096462766503 1310.0021966335378 , flux balance  -0.10474454197520999\n",
      "Iterations exceeded it_max ! sorry \n",
      "Big iteration is  91.82096462766503 0\n",
      "Iteration number  0 , min , max temp  92.67724941512752 1311.307864951335 , flux balance  -0.14772875440463462\n",
      "Iteration number  1 , min , max temp  93.61473150954893 1312.6515486070045 , flux balance  -0.14324031680137314\n",
      "Iteration number  2 , min , max temp  94.64105373757887 1314.0348503877688 , flux balance  -0.13859442465765545\n",
      "Iteration number  3 , min , max temp  95.76077436057987 1315.4595668342172 , flux balance  -0.13377815643343632\n",
      "Iteration number  4 , min , max temp  96.9739849564762 1316.9311826213673 , flux balance  -0.1287767316219683\n",
      "Iteration number  5 , min , max temp  98.27511782855319 1318.4527535636348 , flux balance  -0.12357676940423237\n",
      "Iteration number  6 , min , max temp  99.65257373794401 1320.0269264249137 , flux balance  -0.11816562882463978\n",
      "Iteration number  7 , min , max temp  100.2175893120913 1321.6563083753551 , flux balance  -0.11253013301440759\n",
      "Iterations exceeded it_max ! sorry \n",
      "Big iteration is  100.2175893120913 1\n",
      "Iteration number  0 , min , max temp  99.85664038235434 1323.5415822710045 , flux balance  -0.1196122156179165\n",
      "Iteration number  1 , min , max temp  98.6132259990898 1325.4102505463984 , flux balance  -0.11320169218313895\n",
      "Iteration number  2 , min , max temp  97.36052865484089 1327.261386454821 , flux balance  -0.10680689493451352\n",
      "Iteration number  3 , min , max temp  96.09967547414215 1329.0940756472614 , flux balance  -0.100431987283124\n",
      "Iteration number  4 , min , max temp  94.83171625463598 1330.907438981255 , flux balance  -0.09408108982753585\n",
      "Iteration number  5 , min , max temp  93.55760344627016 1332.7006666428217 , flux balance  -0.08775815329002809\n",
      "Iteration number  6 , min , max temp  92.27817750794661 1334.4730488100813 , flux balance  -0.08146683862035993\n",
      "Iteration number  7 , min , max temp  90.99416407028745 1336.2239934778443 , flux balance  -0.075210438465722\n",
      "Iterations exceeded it_max ! sorry \n",
      "Big iteration is  90.99416407028745 2\n",
      "Iteration number  0 , min , max temp  92.5735487839271 1337.2041000132476 , flux balance  -0.08967807803322442\n",
      "Iteration number  1 , min , max temp  94.21158213265966 1338.211461772413 , flux balance  -0.08615335424661759\n",
      "Iteration number  2 , min , max temp  95.89480280152237 1339.248582564084 , flux balance  -0.0825106357569117\n",
      "Iteration number  3 , min , max temp  97.60524406173307 1340.3172422243504 , flux balance  -0.0787393559654462\n",
      "Iteration number  4 , min , max temp  99.32289033994726 1341.4204019547296 , flux balance  -0.07482823244757593\n",
      "Iteration number  5 , min , max temp  99.96849612661838 1342.5615611539276 , flux balance  -0.07076535758924804\n",
      "Iteration number  6 , min , max temp  99.42296419383493 1343.7436258601715 , flux balance  -0.0665384932227778\n",
      "Iteration number  7 , min , max temp  98.85279283202179 1344.969378928545 , flux balance  -0.06213557093699141\n",
      "Iterations exceeded it_max ! sorry \n",
      "Big iteration is  98.85279283202179 3\n",
      "Iteration number  0 , min , max temp  100.43209557670968 1346.0481579303346 , flux balance  -0.06904551875831788\n",
      "Iteration number  1 , min , max temp  101.38980232182945 1347.1067912283697 , flux balance  -0.06527662791429795\n",
      "Iteration number  2 , min , max temp  99.90285175983324 1348.1456202199727 , flux balance  -0.06156161112860057\n",
      "Iteration number  3 , min , max temp  98.41157651438373 1349.1658800456935 , flux balance  -0.05789825340514194\n",
      "Iteration number  4 , min , max temp  96.91654938735235 1350.1686496256134 , flux balance  -0.05428398205996709\n",
      "Iteration number  5 , min , max temp  95.41826280059449 1351.1547412258371 , flux balance  -0.050716486917630726\n",
      "Iteration number  6 , min , max temp  93.91713442404648 1352.1248778617537 , flux balance  -0.047193722193912394\n",
      "Iteration number  7 , min , max temp  92.41351358225354 1353.0789141548846 , flux balance  -0.04371391838432578\n",
      "Iterations exceeded it_max ! sorry \n",
      "Profile converged before itmx\n",
      "Move up two levels\n",
      "Iteration number  0 , min , max temp  93.28043023940448 1219.2166373546731 , flux balance  -0.26468776654785703\n",
      "Iteration number  1 , min , max temp  94.20333325317372 1221.732806123491 , flux balance  -0.2576474621497751\n",
      "Iteration number  2 , min , max temp  95.18748359282377 1224.3080625774694 , flux balance  -0.2503692291992912\n",
      "Iteration number  3 , min , max temp  96.23693265482916 1226.9486984781083 , flux balance  -0.24283019798382202\n",
      "Iteration number  4 , min , max temp  97.35387317913381 1229.6598849294264 , flux balance  -0.23500433609097535\n",
      "Iteration number  5 , min , max temp  98.53801851250202 1232.4471736113044 , flux balance  -0.22687194490068194\n",
      "Iteration number  6 , min , max temp  99.78605104218899 1235.3167381268497 , flux balance  -0.21840661386587637\n",
      "Iteration number  7 , min , max temp  101.09165523043454 1238.2771856569439 , flux balance  -0.20957521744647684\n",
      "Iterations exceeded it_max ! sorry \n",
      "Big iteration is  101.09165523043454 0\n"
     ]
    }
   ],
   "source": [
    "out = cl_run.climate(opacity_ck, save_all_profiles=True,with_spec=True)"
   ]
  },
  {
   "cell_type": "code",
   "execution_count": null,
   "metadata": {},
   "outputs": [
    {
     "ename": "NameError",
     "evalue": "name 'jdi' is not defined",
     "output_type": "error",
     "traceback": [
      "\u001b[0;31m---------------------------------------------------------------------------\u001b[0m",
      "\u001b[0;31mNameError\u001b[0m                                 Traceback (most recent call last)",
      "Cell \u001b[0;32mIn[1], line 1\u001b[0m\n\u001b[0;32m----> 1\u001b[0m opa_mon \u001b[38;5;241m=\u001b[39m jdi\u001b[38;5;241m.\u001b[39mopannection()\n\u001b[1;32m      3\u001b[0m hi_res \u001b[38;5;241m=\u001b[39m jdi\u001b[38;5;241m.\u001b[39minputs(calculation\u001b[38;5;241m=\u001b[39m\u001b[38;5;124m\"\u001b[39m\u001b[38;5;124mbrowndwarf\u001b[39m\u001b[38;5;124m\"\u001b[39m) \u001b[38;5;66;03m# start a calculation\u001b[39;00m\n\u001b[1;32m      4\u001b[0m teff\u001b[38;5;241m=\u001b[39m \u001b[38;5;241m400\u001b[39m \u001b[38;5;66;03m# Effective Temperature of your Brown Dwarf in K\u001b[39;00m\n",
      "\u001b[0;31mNameError\u001b[0m: name 'jdi' is not defined"
     ]
    }
   ],
   "source": [
    "opa_mon = jdi.opannection()\n",
    "\n",
    "hi_res = jdi.inputs(calculation=\"browndwarf\") # start a calculation\n",
    "teff= 400 # Effective Temperature of your Brown Dwarf in K\n",
    "grav = 316 # Gravity of your brown dwarf in m/s/s\n",
    "hi_res.gravity(gravity=grav, gravity_unit=u.Unit('m/(s**2)')) # input gravity\n",
    "\n",
    "hi_res.atmosphere(df=out['ptchem_df'])\n",
    "# hi_res.clouds(df=out['cld_output_picaso'])\n",
    "\n",
    "df_spec1 = hi_res.spectrum(opa_mon, calculation='thermal', full_output= True)\n",
    "\n",
    "wno, fp = df_spec1['wavenumber'], df_spec1['thermal'] #erg/cm2/s/cm\n",
    "xmicron = 1e4/wno\n",
    "\n",
    "flamy = fp*1e-8  # per anstrom instead of per cm\n",
    "sp = jdi.psyn.ArraySpectrum(xmicron, flamy,\n",
    "                           waveunits='um',\n",
    "                           fluxunits='FLAM')\n",
    "sp.convert(\"um\")\n",
    "sp.convert('Fnu')  # erg/cm2/s/Hz\n",
    "\n",
    "wno = sp.wave  # micron\n",
    "fp = sp.flux  # erg/cm2/s/Hz\n",
    "df_spec1['fluxnu'] = fp\n",
    "wno,fp = jdi.mean_regrid(1e4/wno,fp, R=200)"
   ]
  },
  {
   "cell_type": "code",
   "execution_count": null,
   "metadata": {},
   "outputs": [
    {
     "data": {
      "image/png": "[encoded data removed]",
      "text/plain": [
       "<Figure size 640x480 with 1 Axes>"
      ]
     },
     "metadata": {},
     "output_type": "display_data"
    }
   ],
   "source": [
    "plt.loglog(1e4/wno,fp)\n",
    "plt.show()"
   ]
  },
  {
   "cell_type": "code",
   "execution_count": null,
   "metadata": {},
   "outputs": [],
   "source": []
  }
 ],
 "metadata": {
  "kernelspec": {
   "display_name": "Python 3 (ipykernel)",
   "language": "python",
   "name": "python3"
  },
  "language_info": {
   "codemirror_mode": {
    "name": "ipython",
    "version": 3
   },
   "file_extension": ".py",
   "mimetype": "text/x-python",
   "name": "python",
   "nbconvert_exporter": "python",
   "pygments_lexer": "ipython3",
   "version": "3.12.5"
  }
 },
 "nbformat": 4,
 "nbformat_minor": 4
}
